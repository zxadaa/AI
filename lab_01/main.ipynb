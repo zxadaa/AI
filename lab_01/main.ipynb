{
  "cells": [
    {
      "cell_type": "markdown",
      "metadata": {
        "id": "UQhDWZPt1Sdu"
      },
      "source": [
        "# Lab 01 - Wprowadzenie do AI\n",
        "\n",
        "Celem tego notebook'a jest przejście przez podstawowe zagadnienia związane z uczeniem maszynowym. Wszystko można wykonać u siebie lokalnie instalując biblioteki z pliku `requirements.txt`, natomiast można wszystko również wykonać przy wykorzystaniu Google Colab\n",
        "\n",
        "[![Otwórz w Google Colab](https://colab.research.google.com/assets/colab-badge.svg)](https://colab.research.google.com/github/aghbit/BIT-AI-Intro/blob/main/lab_01/main.ipynb)\n"
      ]
    },
    {
      "cell_type": "code",
      "execution_count": null,
      "metadata": {
        "id": "xOTtHIuk1Sdw"
      },
      "outputs": [],
      "source": [
        "import pandas as pd\n",
        "import numpy as np\n",
        "from sklearn.datasets import load_iris, load_wine\n",
        "from sklearn.neighbors import KNeighborsClassifier, KNeighborsRegressor\n",
        "from sklearn.model_selection import train_test_split\n",
        "from sklearn.metrics import accuracy_score, mean_absolute_error\n",
        "from sklearn.model_selection import cross_val_score\n",
        "from itertools import product\n",
        "from tqdm import tqdm\n",
        "from pathlib import Path\n",
        "import matplotlib.pyplot as plt\n",
        "import seaborn as sns\n",
        "\n",
        "np.random.seed(0)"
      ]
    },
    {
      "cell_type": "markdown",
      "metadata": {
        "id": "yUab4MT31Sdy"
      },
      "source": [
        "Użyjemy tutaj następujących bibliotek:\n",
        "- **pandas** - do wczytywania i przetwarzania danych\n",
        "- **scikit learn** - do uczenia maszynowego i pobrania gotowych zbiorów danych\n",
        "- **matplotlib.pyplot** - do rysowania wykresów\n",
        "- **numpy** - do operacji na macierzach"
      ]
    },
    {
      "cell_type": "markdown",
      "metadata": {
        "id": "2f2Not4y1Sdz"
      },
      "source": [
        "---\n",
        "## Założenia"
      ]
    },
    {
      "cell_type": "markdown",
      "metadata": {
        "id": "Izq1Nqjo1Sd0"
      },
      "source": [
        "Na samym początku, będziemy starali się trzymać dosyć odważnego założenia*. Model to czarna skrzynka, do której możemy wrzucić dane i w jakiś sposób ocenić ich jakość. Jeżeli będziemy mieli więcej czasu, to postaramy się dojść do tego, co się dzieje w środku tej czarnej skrzynki, natomiast to nie jest coś od czego chcemy zacząć.\n",
        "\n",
        "\n",
        "<small><small><small>*Założenie jest to prawdziwe dla zasadniczo każdego, kto nie pracuje naukowo w tej dziedzinie. Reszta osób przez lata doświadczenia ma jakieś pojęcie jak te rzeczy robić (choć też nie zawsze XD), natomiast zwykle to się sprowadza to wykorzystania optymalizacji hiperparametrów dla standardowych modeli oraz doboru metryki pasującej pod cele firmy ;-;</small></small></small>"
      ]
    },
    {
      "cell_type": "markdown",
      "metadata": {
        "id": "cwzqJxjR1Sd1"
      },
      "source": [
        "---\n",
        "## Teoria"
      ]
    },
    {
      "cell_type": "markdown",
      "metadata": {
        "id": "gD876oPN1Sd3"
      },
      "source": [
        "Zasadniczo AI działa dokładnie tak samo jak algorytmy, które były przez was pisane na WDI, a teraz na ASD. Praktycznie wszystkie algorytmy możemy sprowadzić do trzech faz\n",
        "\n",
        "<img src=\"https://github.com/aghbit/BIT-AI-Intro/blob/main/lab_01/assets/algo.svg?raw=1\" width=\"800\"/>\n",
        "\n",
        "Jednak czasami okazuje się, że problemy z którymi się mierzymy są tak trudne, że nie jesteśmy w stanie ich prosto rozwiązać. Przykładowo choćby problemy klasyfikacji kwiatków czy wyceny nieruchomości. Nie wiemy w jaki sposób na podstawie wymiarów liści określić do jakiej rodziny należą kwiaty. Tym bardziej nie znamy żadnego wzoru na cenę mieszkań. W takim przypadku przychodzi nam z pomocą statystyka, którą ładnie nazywamy sztuczną inteligencją. Ponieważ robimy \"mądre zgadywanie\", to wyniki nie zawsze będą prawidłowe. Naszym celem jest jednak zminimalizowanie błędu."
      ]
    },
    {
      "cell_type": "markdown",
      "metadata": {
        "id": "a2qbJYrv1Sd5"
      },
      "source": [
        "- Dane\n",
        "\n",
        "  Skoro chcemy wykorzystać statystykę, to musimy mieć jakieś dane. Na początku skupimy się na dwóch zbiorach danych:\n",
        "    - **Iris** – zbiór danych zawierający informacje o kwiatach irysów. Tutaj będziemy przypisywać kwiatki do odpowiednich gatunków. Jest to problem **klasyfikacji**.\n",
        "    - **Wine** – zbiór danych zawierający informacje o winach. Tutaj będziemy przewidywać ilość alkoholu w winie na podstawie innych cech. Jest to problem **regresji**."
      ]
    },
    {
      "cell_type": "markdown",
      "metadata": {
        "id": "dsnB1_i61Sd6"
      },
      "source": [
        "- Model\n",
        "\n",
        "  Model to funkcja, która na podstawie danych wejściowych zwraca nam wynik. Jest to analogiczne do standardowego algorytmu. W tym labie nie będziemy analizować różnych modeli, skupimy się na KNN (K-Nearest Neighbors), który jest jednym z najprostszych modeli.\n",
        "\n",
        "  - K-Nearst Neighbors\n",
        "\n",
        "    Idea tego algorytmu jest bardzo prosta. W przypadku klasyfikacji, aby określić do jakiej klasy należy dany punkt, sprawdzamy do jakiej klasy należy większość z $k$ najbliższych punktów. W przypadku regresji, zwracamy zwykle średnią wartość z $k$ najbliższych punktów.\n",
        "\n",
        "<img src=\"https://github.com/aghbit/BIT-AI-Intro/blob/main/lab_01/assets/KNN.svg?raw=1\" width=\"800\"/>"
      ]
    },
    {
      "cell_type": "markdown",
      "metadata": {
        "id": "qT30NJa41Sd7"
      },
      "source": [
        "- Funkcja kosztu\n",
        "\n",
        "  Na samym końcu musimy jakoś ocenić, jak dobrze działa nasz model. W tym celu wybieramy pewną funkcję kosztu.\n",
        "  -  **Klasyfikacja** – Tutaj użyjemy dokładności (accuracy), która mówi nam ile procent punktów zostało poprawnie sklasyfikowanych.\n",
        "  - **Regresja** – Tutaj użyjemy średniego błędu bezwzględnego (Mean Absolute Error), który mówi nam o ile średnio nasze przewidywania różnią się od prawdziwych wartości."
      ]
    },
    {
      "cell_type": "markdown",
      "metadata": {
        "id": "69aMSAPM1Sd7"
      },
      "source": [
        "---\n",
        "## Przykłady"
      ]
    },
    {
      "cell_type": "markdown",
      "metadata": {
        "id": "u6avVp8m1Sd7"
      },
      "source": [
        "**Klasyfikacja**\n",
        "\n",
        "  Zacznijmy od klasyfikacji. Naszym celem jest przypisanie kwiatków do odpowiednich gatunków. Na samym początku wczytajmy dane i zobaczmy jak wyglądają"
      ]
    },
    {
      "cell_type": "code",
      "execution_count": null,
      "metadata": {
        "id": "MFbwSWvx1Sd7",
        "outputId": "94dea745-4627-4e01-cbd3-3bcab67a3487"
      },
      "outputs": [
        {
          "data": {
            "text/html": [
              "<div>\n",
              "<style scoped>\n",
              "    .dataframe tbody tr th:only-of-type {\n",
              "        vertical-align: middle;\n",
              "    }\n",
              "\n",
              "    .dataframe tbody tr th {\n",
              "        vertical-align: top;\n",
              "    }\n",
              "\n",
              "    .dataframe thead th {\n",
              "        text-align: right;\n",
              "    }\n",
              "</style>\n",
              "<table border=\"1\" class=\"dataframe\">\n",
              "  <thead>\n",
              "    <tr style=\"text-align: right;\">\n",
              "      <th></th>\n",
              "      <th>sepal length (cm)</th>\n",
              "      <th>sepal width (cm)</th>\n",
              "      <th>petal length (cm)</th>\n",
              "      <th>petal width (cm)</th>\n",
              "      <th>target</th>\n",
              "    </tr>\n",
              "  </thead>\n",
              "  <tbody>\n",
              "    <tr>\n",
              "      <th>0</th>\n",
              "      <td>5.8</td>\n",
              "      <td>2.8</td>\n",
              "      <td>5.1</td>\n",
              "      <td>2.4</td>\n",
              "      <td>2</td>\n",
              "    </tr>\n",
              "    <tr>\n",
              "      <th>1</th>\n",
              "      <td>6.0</td>\n",
              "      <td>2.2</td>\n",
              "      <td>4.0</td>\n",
              "      <td>1.0</td>\n",
              "      <td>1</td>\n",
              "    </tr>\n",
              "    <tr>\n",
              "      <th>2</th>\n",
              "      <td>5.5</td>\n",
              "      <td>4.2</td>\n",
              "      <td>1.4</td>\n",
              "      <td>0.2</td>\n",
              "      <td>0</td>\n",
              "    </tr>\n",
              "    <tr>\n",
              "      <th>3</th>\n",
              "      <td>7.3</td>\n",
              "      <td>2.9</td>\n",
              "      <td>6.3</td>\n",
              "      <td>1.8</td>\n",
              "      <td>2</td>\n",
              "    </tr>\n",
              "    <tr>\n",
              "      <th>4</th>\n",
              "      <td>5.0</td>\n",
              "      <td>3.4</td>\n",
              "      <td>1.5</td>\n",
              "      <td>0.2</td>\n",
              "      <td>0</td>\n",
              "    </tr>\n",
              "  </tbody>\n",
              "</table>\n",
              "</div>"
            ],
            "text/plain": [
              "   sepal length (cm)  sepal width (cm)  petal length (cm)  petal width (cm)  \\\n",
              "0                5.8               2.8                5.1               2.4   \n",
              "1                6.0               2.2                4.0               1.0   \n",
              "2                5.5               4.2                1.4               0.2   \n",
              "3                7.3               2.9                6.3               1.8   \n",
              "4                5.0               3.4                1.5               0.2   \n",
              "\n",
              "   target  \n",
              "0       2  \n",
              "1       1  \n",
              "2       0  \n",
              "3       2  \n",
              "4       0  "
            ]
          },
          "execution_count": 35,
          "metadata": {},
          "output_type": "execute_result"
        }
      ],
      "source": [
        "iris = load_iris()\n",
        "iris_X = iris.data\n",
        "iris_y = iris.target\n",
        "iris_arr = np.concatenate([iris_X, iris_y.reshape(-1, 1)], axis=1)\n",
        "df_iris = pd.DataFrame(\n",
        "    iris_arr,\n",
        "    columns=iris.feature_names + ['target']\n",
        ")\n",
        "df_iris = df_iris.sample(frac=1).reset_index(drop=True)\n",
        "df_iris['target'] = df_iris['target'].astype(int)\n",
        "\n",
        "df_iris.head()"
      ]
    },
    {
      "cell_type": "code",
      "execution_count": null,
      "metadata": {
        "id": "gvrCFynL1Sd9",
        "outputId": "5938b302-3ca1-4639-9dfb-d8daf435cbdb"
      },
      "outputs": [
        {
          "name": "stdout",
          "output_type": "stream",
          "text": [
            "<class 'pandas.core.frame.DataFrame'>\n",
            "RangeIndex: 150 entries, 0 to 149\n",
            "Data columns (total 5 columns):\n",
            " #   Column             Non-Null Count  Dtype  \n",
            "---  ------             --------------  -----  \n",
            " 0   sepal length (cm)  150 non-null    float64\n",
            " 1   sepal width (cm)   150 non-null    float64\n",
            " 2   petal length (cm)  150 non-null    float64\n",
            " 3   petal width (cm)   150 non-null    float64\n",
            " 4   target             150 non-null    int64  \n",
            "dtypes: float64(4), int64(1)\n",
            "memory usage: 6.0 KB\n"
          ]
        }
      ],
      "source": [
        "df_iris.info()"
      ]
    },
    {
      "cell_type": "code",
      "execution_count": null,
      "metadata": {
        "id": "OOmL7Qi11Sd9",
        "outputId": "d404c522-db2b-43aa-f15d-09b28e32f823"
      },
      "outputs": [
        {
          "data": {
            "text/html": [
              "<div>\n",
              "<style scoped>\n",
              "    .dataframe tbody tr th:only-of-type {\n",
              "        vertical-align: middle;\n",
              "    }\n",
              "\n",
              "    .dataframe tbody tr th {\n",
              "        vertical-align: top;\n",
              "    }\n",
              "\n",
              "    .dataframe thead th {\n",
              "        text-align: right;\n",
              "    }\n",
              "</style>\n",
              "<table border=\"1\" class=\"dataframe\">\n",
              "  <thead>\n",
              "    <tr style=\"text-align: right;\">\n",
              "      <th></th>\n",
              "      <th>sepal length (cm)</th>\n",
              "      <th>sepal width (cm)</th>\n",
              "      <th>petal length (cm)</th>\n",
              "      <th>petal width (cm)</th>\n",
              "      <th>target</th>\n",
              "    </tr>\n",
              "  </thead>\n",
              "  <tbody>\n",
              "    <tr>\n",
              "      <th>count</th>\n",
              "      <td>150.000000</td>\n",
              "      <td>150.000000</td>\n",
              "      <td>150.000000</td>\n",
              "      <td>150.000000</td>\n",
              "      <td>150.000000</td>\n",
              "    </tr>\n",
              "    <tr>\n",
              "      <th>mean</th>\n",
              "      <td>5.843333</td>\n",
              "      <td>3.057333</td>\n",
              "      <td>3.758000</td>\n",
              "      <td>1.199333</td>\n",
              "      <td>1.000000</td>\n",
              "    </tr>\n",
              "    <tr>\n",
              "      <th>std</th>\n",
              "      <td>0.828066</td>\n",
              "      <td>0.435866</td>\n",
              "      <td>1.765298</td>\n",
              "      <td>0.762238</td>\n",
              "      <td>0.819232</td>\n",
              "    </tr>\n",
              "    <tr>\n",
              "      <th>min</th>\n",
              "      <td>4.300000</td>\n",
              "      <td>2.000000</td>\n",
              "      <td>1.000000</td>\n",
              "      <td>0.100000</td>\n",
              "      <td>0.000000</td>\n",
              "    </tr>\n",
              "    <tr>\n",
              "      <th>25%</th>\n",
              "      <td>5.100000</td>\n",
              "      <td>2.800000</td>\n",
              "      <td>1.600000</td>\n",
              "      <td>0.300000</td>\n",
              "      <td>0.000000</td>\n",
              "    </tr>\n",
              "    <tr>\n",
              "      <th>50%</th>\n",
              "      <td>5.800000</td>\n",
              "      <td>3.000000</td>\n",
              "      <td>4.350000</td>\n",
              "      <td>1.300000</td>\n",
              "      <td>1.000000</td>\n",
              "    </tr>\n",
              "    <tr>\n",
              "      <th>75%</th>\n",
              "      <td>6.400000</td>\n",
              "      <td>3.300000</td>\n",
              "      <td>5.100000</td>\n",
              "      <td>1.800000</td>\n",
              "      <td>2.000000</td>\n",
              "    </tr>\n",
              "    <tr>\n",
              "      <th>max</th>\n",
              "      <td>7.900000</td>\n",
              "      <td>4.400000</td>\n",
              "      <td>6.900000</td>\n",
              "      <td>2.500000</td>\n",
              "      <td>2.000000</td>\n",
              "    </tr>\n",
              "  </tbody>\n",
              "</table>\n",
              "</div>"
            ],
            "text/plain": [
              "       sepal length (cm)  sepal width (cm)  petal length (cm)  \\\n",
              "count         150.000000        150.000000         150.000000   \n",
              "mean            5.843333          3.057333           3.758000   \n",
              "std             0.828066          0.435866           1.765298   \n",
              "min             4.300000          2.000000           1.000000   \n",
              "25%             5.100000          2.800000           1.600000   \n",
              "50%             5.800000          3.000000           4.350000   \n",
              "75%             6.400000          3.300000           5.100000   \n",
              "max             7.900000          4.400000           6.900000   \n",
              "\n",
              "       petal width (cm)      target  \n",
              "count        150.000000  150.000000  \n",
              "mean           1.199333    1.000000  \n",
              "std            0.762238    0.819232  \n",
              "min            0.100000    0.000000  \n",
              "25%            0.300000    0.000000  \n",
              "50%            1.300000    1.000000  \n",
              "75%            1.800000    2.000000  \n",
              "max            2.500000    2.000000  "
            ]
          },
          "execution_count": 37,
          "metadata": {},
          "output_type": "execute_result"
        }
      ],
      "source": [
        "df_iris.describe()"
      ]
    },
    {
      "cell_type": "markdown",
      "metadata": {
        "id": "kTsriMb01Sd-"
      },
      "source": [
        "Na podstawie powyższych komórek możemy zauważyć, że mamy 150 kwiatków, które należą do jednej z trzech klas.\n",
        "\n",
        "Dla każdego kwiatka mamy 4 cechy:\n",
        "  - długość kielicha\n",
        "  - szerokość kielicha\n",
        "  - długość płatka\n",
        "  - szerokość płatka\n",
        "\n",
        "Wszystkie wartości są liczbowe, co wynika z tego w jaki sposób ten dataset jest przechowywany przez **scikit-learn**. więc nie musimy ich w żaden sposób przetwarzać. Możemy od razu przejść do trenowania modelu."
      ]
    },
    {
      "cell_type": "markdown",
      "metadata": {
        "id": "x9jgAGdJ1Sd-"
      },
      "source": [
        "- train-test split\n",
        "\n",
        "  Na samym początku podzielmy nasz zbiór danych na dwa zbiory:\n",
        "  - treningowy - na którym będziemy trenować nasz model\n",
        "  - testowy - na którym będziemy oceniać nasz model\n",
        "\n",
        "  Idea idąca za tym podejściem jest taka, żeby nasz model nie widział danych testowych podczas trenowania. W ten sposób sprawdzamy jak dobrze nasz model działa na danych, które nie widział. Jest to bardzo ważne, ponieważ naszym celem jest generalizacja, czyli umiejętność przewidywania wartości dla nowych danych.\n",
        "\n",
        "  W tym celu użyjemy funkcji **train_test_split** z biblioteki **scikit-learn**. Funkcja ta przyjmuje jako argumenty:\n",
        "  - dane\n",
        "  - test_size - procent danych, które mają trafić do zbioru testowego. W naszym przypadku 25%"
      ]
    },
    {
      "cell_type": "code",
      "execution_count": null,
      "metadata": {
        "id": "r4Lr5xlD1Sd-"
      },
      "outputs": [],
      "source": [
        "iris_train, iris_test = train_test_split(df_iris, test_size=0.25)"
      ]
    },
    {
      "cell_type": "markdown",
      "metadata": {
        "id": "ot90ybdr1Sd-"
      },
      "source": [
        "- trenowanie modelu\n",
        "\n",
        "  Na samym końcu trenujemy nasz model. W tym celu użyjemy klasy **KNeighborsClassifier** z biblioteki **scikit-learn**. Jako argument podajemy liczbę sąsiadów, którą chcemy użyć. W tym przypadku użyjemy 3."
      ]
    },
    {
      "cell_type": "code",
      "execution_count": null,
      "metadata": {
        "id": "JUq8kMGK1Sd_",
        "outputId": "4396f6c9-2dff-4873-ffee-1c9c669dc0d6"
      },
      "outputs": [
        {
          "data": {
            "text/html": [
              "<style>#sk-container-id-2 {\n",
              "  /* Definition of color scheme common for light and dark mode */\n",
              "  --sklearn-color-text: #000;\n",
              "  --sklearn-color-text-muted: #666;\n",
              "  --sklearn-color-line: gray;\n",
              "  /* Definition of color scheme for unfitted estimators */\n",
              "  --sklearn-color-unfitted-level-0: #fff5e6;\n",
              "  --sklearn-color-unfitted-level-1: #f6e4d2;\n",
              "  --sklearn-color-unfitted-level-2: #ffe0b3;\n",
              "  --sklearn-color-unfitted-level-3: chocolate;\n",
              "  /* Definition of color scheme for fitted estimators */\n",
              "  --sklearn-color-fitted-level-0: #f0f8ff;\n",
              "  --sklearn-color-fitted-level-1: #d4ebff;\n",
              "  --sklearn-color-fitted-level-2: #b3dbfd;\n",
              "  --sklearn-color-fitted-level-3: cornflowerblue;\n",
              "\n",
              "  /* Specific color for light theme */\n",
              "  --sklearn-color-text-on-default-background: var(--sg-text-color, var(--theme-code-foreground, var(--jp-content-font-color1, black)));\n",
              "  --sklearn-color-background: var(--sg-background-color, var(--theme-background, var(--jp-layout-color0, white)));\n",
              "  --sklearn-color-border-box: var(--sg-text-color, var(--theme-code-foreground, var(--jp-content-font-color1, black)));\n",
              "  --sklearn-color-icon: #696969;\n",
              "\n",
              "  @media (prefers-color-scheme: dark) {\n",
              "    /* Redefinition of color scheme for dark theme */\n",
              "    --sklearn-color-text-on-default-background: var(--sg-text-color, var(--theme-code-foreground, var(--jp-content-font-color1, white)));\n",
              "    --sklearn-color-background: var(--sg-background-color, var(--theme-background, var(--jp-layout-color0, #111)));\n",
              "    --sklearn-color-border-box: var(--sg-text-color, var(--theme-code-foreground, var(--jp-content-font-color1, white)));\n",
              "    --sklearn-color-icon: #878787;\n",
              "  }\n",
              "}\n",
              "\n",
              "#sk-container-id-2 {\n",
              "  color: var(--sklearn-color-text);\n",
              "}\n",
              "\n",
              "#sk-container-id-2 pre {\n",
              "  padding: 0;\n",
              "}\n",
              "\n",
              "#sk-container-id-2 input.sk-hidden--visually {\n",
              "  border: 0;\n",
              "  clip: rect(1px 1px 1px 1px);\n",
              "  clip: rect(1px, 1px, 1px, 1px);\n",
              "  height: 1px;\n",
              "  margin: -1px;\n",
              "  overflow: hidden;\n",
              "  padding: 0;\n",
              "  position: absolute;\n",
              "  width: 1px;\n",
              "}\n",
              "\n",
              "#sk-container-id-2 div.sk-dashed-wrapped {\n",
              "  border: 1px dashed var(--sklearn-color-line);\n",
              "  margin: 0 0.4em 0.5em 0.4em;\n",
              "  box-sizing: border-box;\n",
              "  padding-bottom: 0.4em;\n",
              "  background-color: var(--sklearn-color-background);\n",
              "}\n",
              "\n",
              "#sk-container-id-2 div.sk-container {\n",
              "  /* jupyter's `normalize.less` sets `[hidden] { display: none; }`\n",
              "     but bootstrap.min.css set `[hidden] { display: none !important; }`\n",
              "     so we also need the `!important` here to be able to override the\n",
              "     default hidden behavior on the sphinx rendered scikit-learn.org.\n",
              "     See: https://github.com/scikit-learn/scikit-learn/issues/21755 */\n",
              "  display: inline-block !important;\n",
              "  position: relative;\n",
              "}\n",
              "\n",
              "#sk-container-id-2 div.sk-text-repr-fallback {\n",
              "  display: none;\n",
              "}\n",
              "\n",
              "div.sk-parallel-item,\n",
              "div.sk-serial,\n",
              "div.sk-item {\n",
              "  /* draw centered vertical line to link estimators */\n",
              "  background-image: linear-gradient(var(--sklearn-color-text-on-default-background), var(--sklearn-color-text-on-default-background));\n",
              "  background-size: 2px 100%;\n",
              "  background-repeat: no-repeat;\n",
              "  background-position: center center;\n",
              "}\n",
              "\n",
              "/* Parallel-specific style estimator block */\n",
              "\n",
              "#sk-container-id-2 div.sk-parallel-item::after {\n",
              "  content: \"\";\n",
              "  width: 100%;\n",
              "  border-bottom: 2px solid var(--sklearn-color-text-on-default-background);\n",
              "  flex-grow: 1;\n",
              "}\n",
              "\n",
              "#sk-container-id-2 div.sk-parallel {\n",
              "  display: flex;\n",
              "  align-items: stretch;\n",
              "  justify-content: center;\n",
              "  background-color: var(--sklearn-color-background);\n",
              "  position: relative;\n",
              "}\n",
              "\n",
              "#sk-container-id-2 div.sk-parallel-item {\n",
              "  display: flex;\n",
              "  flex-direction: column;\n",
              "}\n",
              "\n",
              "#sk-container-id-2 div.sk-parallel-item:first-child::after {\n",
              "  align-self: flex-end;\n",
              "  width: 50%;\n",
              "}\n",
              "\n",
              "#sk-container-id-2 div.sk-parallel-item:last-child::after {\n",
              "  align-self: flex-start;\n",
              "  width: 50%;\n",
              "}\n",
              "\n",
              "#sk-container-id-2 div.sk-parallel-item:only-child::after {\n",
              "  width: 0;\n",
              "}\n",
              "\n",
              "/* Serial-specific style estimator block */\n",
              "\n",
              "#sk-container-id-2 div.sk-serial {\n",
              "  display: flex;\n",
              "  flex-direction: column;\n",
              "  align-items: center;\n",
              "  background-color: var(--sklearn-color-background);\n",
              "  padding-right: 1em;\n",
              "  padding-left: 1em;\n",
              "}\n",
              "\n",
              "\n",
              "/* Toggleable style: style used for estimator/Pipeline/ColumnTransformer box that is\n",
              "clickable and can be expanded/collapsed.\n",
              "- Pipeline and ColumnTransformer use this feature and define the default style\n",
              "- Estimators will overwrite some part of the style using the `sk-estimator` class\n",
              "*/\n",
              "\n",
              "/* Pipeline and ColumnTransformer style (default) */\n",
              "\n",
              "#sk-container-id-2 div.sk-toggleable {\n",
              "  /* Default theme specific background. It is overwritten whether we have a\n",
              "  specific estimator or a Pipeline/ColumnTransformer */\n",
              "  background-color: var(--sklearn-color-background);\n",
              "}\n",
              "\n",
              "/* Toggleable label */\n",
              "#sk-container-id-2 label.sk-toggleable__label {\n",
              "  cursor: pointer;\n",
              "  display: flex;\n",
              "  width: 100%;\n",
              "  margin-bottom: 0;\n",
              "  padding: 0.5em;\n",
              "  box-sizing: border-box;\n",
              "  text-align: center;\n",
              "  align-items: start;\n",
              "  justify-content: space-between;\n",
              "  gap: 0.5em;\n",
              "}\n",
              "\n",
              "#sk-container-id-2 label.sk-toggleable__label .caption {\n",
              "  font-size: 0.6rem;\n",
              "  font-weight: lighter;\n",
              "  color: var(--sklearn-color-text-muted);\n",
              "}\n",
              "\n",
              "#sk-container-id-2 label.sk-toggleable__label-arrow:before {\n",
              "  /* Arrow on the left of the label */\n",
              "  content: \"▸\";\n",
              "  float: left;\n",
              "  margin-right: 0.25em;\n",
              "  color: var(--sklearn-color-icon);\n",
              "}\n",
              "\n",
              "#sk-container-id-2 label.sk-toggleable__label-arrow:hover:before {\n",
              "  color: var(--sklearn-color-text);\n",
              "}\n",
              "\n",
              "/* Toggleable content - dropdown */\n",
              "\n",
              "#sk-container-id-2 div.sk-toggleable__content {\n",
              "  max-height: 0;\n",
              "  max-width: 0;\n",
              "  overflow: hidden;\n",
              "  text-align: left;\n",
              "  /* unfitted */\n",
              "  background-color: var(--sklearn-color-unfitted-level-0);\n",
              "}\n",
              "\n",
              "#sk-container-id-2 div.sk-toggleable__content.fitted {\n",
              "  /* fitted */\n",
              "  background-color: var(--sklearn-color-fitted-level-0);\n",
              "}\n",
              "\n",
              "#sk-container-id-2 div.sk-toggleable__content pre {\n",
              "  margin: 0.2em;\n",
              "  border-radius: 0.25em;\n",
              "  color: var(--sklearn-color-text);\n",
              "  /* unfitted */\n",
              "  background-color: var(--sklearn-color-unfitted-level-0);\n",
              "}\n",
              "\n",
              "#sk-container-id-2 div.sk-toggleable__content.fitted pre {\n",
              "  /* unfitted */\n",
              "  background-color: var(--sklearn-color-fitted-level-0);\n",
              "}\n",
              "\n",
              "#sk-container-id-2 input.sk-toggleable__control:checked~div.sk-toggleable__content {\n",
              "  /* Expand drop-down */\n",
              "  max-height: 200px;\n",
              "  max-width: 100%;\n",
              "  overflow: auto;\n",
              "}\n",
              "\n",
              "#sk-container-id-2 input.sk-toggleable__control:checked~label.sk-toggleable__label-arrow:before {\n",
              "  content: \"▾\";\n",
              "}\n",
              "\n",
              "/* Pipeline/ColumnTransformer-specific style */\n",
              "\n",
              "#sk-container-id-2 div.sk-label input.sk-toggleable__control:checked~label.sk-toggleable__label {\n",
              "  color: var(--sklearn-color-text);\n",
              "  background-color: var(--sklearn-color-unfitted-level-2);\n",
              "}\n",
              "\n",
              "#sk-container-id-2 div.sk-label.fitted input.sk-toggleable__control:checked~label.sk-toggleable__label {\n",
              "  background-color: var(--sklearn-color-fitted-level-2);\n",
              "}\n",
              "\n",
              "/* Estimator-specific style */\n",
              "\n",
              "/* Colorize estimator box */\n",
              "#sk-container-id-2 div.sk-estimator input.sk-toggleable__control:checked~label.sk-toggleable__label {\n",
              "  /* unfitted */\n",
              "  background-color: var(--sklearn-color-unfitted-level-2);\n",
              "}\n",
              "\n",
              "#sk-container-id-2 div.sk-estimator.fitted input.sk-toggleable__control:checked~label.sk-toggleable__label {\n",
              "  /* fitted */\n",
              "  background-color: var(--sklearn-color-fitted-level-2);\n",
              "}\n",
              "\n",
              "#sk-container-id-2 div.sk-label label.sk-toggleable__label,\n",
              "#sk-container-id-2 div.sk-label label {\n",
              "  /* The background is the default theme color */\n",
              "  color: var(--sklearn-color-text-on-default-background);\n",
              "}\n",
              "\n",
              "/* On hover, darken the color of the background */\n",
              "#sk-container-id-2 div.sk-label:hover label.sk-toggleable__label {\n",
              "  color: var(--sklearn-color-text);\n",
              "  background-color: var(--sklearn-color-unfitted-level-2);\n",
              "}\n",
              "\n",
              "/* Label box, darken color on hover, fitted */\n",
              "#sk-container-id-2 div.sk-label.fitted:hover label.sk-toggleable__label.fitted {\n",
              "  color: var(--sklearn-color-text);\n",
              "  background-color: var(--sklearn-color-fitted-level-2);\n",
              "}\n",
              "\n",
              "/* Estimator label */\n",
              "\n",
              "#sk-container-id-2 div.sk-label label {\n",
              "  font-family: monospace;\n",
              "  font-weight: bold;\n",
              "  display: inline-block;\n",
              "  line-height: 1.2em;\n",
              "}\n",
              "\n",
              "#sk-container-id-2 div.sk-label-container {\n",
              "  text-align: center;\n",
              "}\n",
              "\n",
              "/* Estimator-specific */\n",
              "#sk-container-id-2 div.sk-estimator {\n",
              "  font-family: monospace;\n",
              "  border: 1px dotted var(--sklearn-color-border-box);\n",
              "  border-radius: 0.25em;\n",
              "  box-sizing: border-box;\n",
              "  margin-bottom: 0.5em;\n",
              "  /* unfitted */\n",
              "  background-color: var(--sklearn-color-unfitted-level-0);\n",
              "}\n",
              "\n",
              "#sk-container-id-2 div.sk-estimator.fitted {\n",
              "  /* fitted */\n",
              "  background-color: var(--sklearn-color-fitted-level-0);\n",
              "}\n",
              "\n",
              "/* on hover */\n",
              "#sk-container-id-2 div.sk-estimator:hover {\n",
              "  /* unfitted */\n",
              "  background-color: var(--sklearn-color-unfitted-level-2);\n",
              "}\n",
              "\n",
              "#sk-container-id-2 div.sk-estimator.fitted:hover {\n",
              "  /* fitted */\n",
              "  background-color: var(--sklearn-color-fitted-level-2);\n",
              "}\n",
              "\n",
              "/* Specification for estimator info (e.g. \"i\" and \"?\") */\n",
              "\n",
              "/* Common style for \"i\" and \"?\" */\n",
              "\n",
              ".sk-estimator-doc-link,\n",
              "a:link.sk-estimator-doc-link,\n",
              "a:visited.sk-estimator-doc-link {\n",
              "  float: right;\n",
              "  font-size: smaller;\n",
              "  line-height: 1em;\n",
              "  font-family: monospace;\n",
              "  background-color: var(--sklearn-color-background);\n",
              "  border-radius: 1em;\n",
              "  height: 1em;\n",
              "  width: 1em;\n",
              "  text-decoration: none !important;\n",
              "  margin-left: 0.5em;\n",
              "  text-align: center;\n",
              "  /* unfitted */\n",
              "  border: var(--sklearn-color-unfitted-level-1) 1pt solid;\n",
              "  color: var(--sklearn-color-unfitted-level-1);\n",
              "}\n",
              "\n",
              ".sk-estimator-doc-link.fitted,\n",
              "a:link.sk-estimator-doc-link.fitted,\n",
              "a:visited.sk-estimator-doc-link.fitted {\n",
              "  /* fitted */\n",
              "  border: var(--sklearn-color-fitted-level-1) 1pt solid;\n",
              "  color: var(--sklearn-color-fitted-level-1);\n",
              "}\n",
              "\n",
              "/* On hover */\n",
              "div.sk-estimator:hover .sk-estimator-doc-link:hover,\n",
              ".sk-estimator-doc-link:hover,\n",
              "div.sk-label-container:hover .sk-estimator-doc-link:hover,\n",
              ".sk-estimator-doc-link:hover {\n",
              "  /* unfitted */\n",
              "  background-color: var(--sklearn-color-unfitted-level-3);\n",
              "  color: var(--sklearn-color-background);\n",
              "  text-decoration: none;\n",
              "}\n",
              "\n",
              "div.sk-estimator.fitted:hover .sk-estimator-doc-link.fitted:hover,\n",
              ".sk-estimator-doc-link.fitted:hover,\n",
              "div.sk-label-container:hover .sk-estimator-doc-link.fitted:hover,\n",
              ".sk-estimator-doc-link.fitted:hover {\n",
              "  /* fitted */\n",
              "  background-color: var(--sklearn-color-fitted-level-3);\n",
              "  color: var(--sklearn-color-background);\n",
              "  text-decoration: none;\n",
              "}\n",
              "\n",
              "/* Span, style for the box shown on hovering the info icon */\n",
              ".sk-estimator-doc-link span {\n",
              "  display: none;\n",
              "  z-index: 9999;\n",
              "  position: relative;\n",
              "  font-weight: normal;\n",
              "  right: .2ex;\n",
              "  padding: .5ex;\n",
              "  margin: .5ex;\n",
              "  width: min-content;\n",
              "  min-width: 20ex;\n",
              "  max-width: 50ex;\n",
              "  color: var(--sklearn-color-text);\n",
              "  box-shadow: 2pt 2pt 4pt #999;\n",
              "  /* unfitted */\n",
              "  background: var(--sklearn-color-unfitted-level-0);\n",
              "  border: .5pt solid var(--sklearn-color-unfitted-level-3);\n",
              "}\n",
              "\n",
              ".sk-estimator-doc-link.fitted span {\n",
              "  /* fitted */\n",
              "  background: var(--sklearn-color-fitted-level-0);\n",
              "  border: var(--sklearn-color-fitted-level-3);\n",
              "}\n",
              "\n",
              ".sk-estimator-doc-link:hover span {\n",
              "  display: block;\n",
              "}\n",
              "\n",
              "/* \"?\"-specific style due to the `<a>` HTML tag */\n",
              "\n",
              "#sk-container-id-2 a.estimator_doc_link {\n",
              "  float: right;\n",
              "  font-size: 1rem;\n",
              "  line-height: 1em;\n",
              "  font-family: monospace;\n",
              "  background-color: var(--sklearn-color-background);\n",
              "  border-radius: 1rem;\n",
              "  height: 1rem;\n",
              "  width: 1rem;\n",
              "  text-decoration: none;\n",
              "  /* unfitted */\n",
              "  color: var(--sklearn-color-unfitted-level-1);\n",
              "  border: var(--sklearn-color-unfitted-level-1) 1pt solid;\n",
              "}\n",
              "\n",
              "#sk-container-id-2 a.estimator_doc_link.fitted {\n",
              "  /* fitted */\n",
              "  border: var(--sklearn-color-fitted-level-1) 1pt solid;\n",
              "  color: var(--sklearn-color-fitted-level-1);\n",
              "}\n",
              "\n",
              "/* On hover */\n",
              "#sk-container-id-2 a.estimator_doc_link:hover {\n",
              "  /* unfitted */\n",
              "  background-color: var(--sklearn-color-unfitted-level-3);\n",
              "  color: var(--sklearn-color-background);\n",
              "  text-decoration: none;\n",
              "}\n",
              "\n",
              "#sk-container-id-2 a.estimator_doc_link.fitted:hover {\n",
              "  /* fitted */\n",
              "  background-color: var(--sklearn-color-fitted-level-3);\n",
              "}\n",
              "</style><div id=\"sk-container-id-2\" class=\"sk-top-container\"><div class=\"sk-text-repr-fallback\"><pre>KNeighborsClassifier(n_neighbors=3)</pre><b>In a Jupyter environment, please rerun this cell to show the HTML representation or trust the notebook. <br />On GitHub, the HTML representation is unable to render, please try loading this page with nbviewer.org.</b></div><div class=\"sk-container\" hidden><div class=\"sk-item\"><div class=\"sk-estimator fitted sk-toggleable\"><input class=\"sk-toggleable__control sk-hidden--visually\" id=\"sk-estimator-id-2\" type=\"checkbox\" checked><label for=\"sk-estimator-id-2\" class=\"sk-toggleable__label fitted sk-toggleable__label-arrow\"><div><div>KNeighborsClassifier</div></div><div><a class=\"sk-estimator-doc-link fitted\" rel=\"noreferrer\" target=\"_blank\" href=\"https://scikit-learn.org/1.6/modules/generated/sklearn.neighbors.KNeighborsClassifier.html\">?<span>Documentation for KNeighborsClassifier</span></a><span class=\"sk-estimator-doc-link fitted\">i<span>Fitted</span></span></div></label><div class=\"sk-toggleable__content fitted\"><pre>KNeighborsClassifier(n_neighbors=3)</pre></div> </div></div></div></div>"
            ],
            "text/plain": [
              "KNeighborsClassifier(n_neighbors=3)"
            ]
          },
          "execution_count": 39,
          "metadata": {},
          "output_type": "execute_result"
        }
      ],
      "source": [
        "iris_model = KNeighborsClassifier(n_neighbors=3)\n",
        "iris_model.fit(iris_train[iris.feature_names], iris_train['target'])"
      ]
    },
    {
      "cell_type": "markdown",
      "metadata": {
        "id": "X1bvjMxc1Sd_"
      },
      "source": [
        "- ocena modelu\n",
        "\n",
        "  Na samym końcu oceniamy nasz model. W tym celu użyjemy funkcji **accuracy_score** z biblioteki **scikit-learn**. Funkcja ta przyjmuje dwa argumenty:\n",
        "  - prawdziwe wartości\n",
        "  - przewidywane wartości\n",
        "\n",
        "  Wartość zwracana przez funkcję to procent poprawnie sklasyfikowanych punktów."
      ]
    },
    {
      "cell_type": "code",
      "execution_count": null,
      "metadata": {
        "id": "n6DXtBKB1Sd_",
        "outputId": "fc4f6dcf-a8a4-4b0f-ab90-67a1f71abee1"
      },
      "outputs": [
        {
          "name": "stdout",
          "output_type": "stream",
          "text": [
            "Accuracy: 94.74%\n"
          ]
        }
      ],
      "source": [
        "iris_pred = iris_model.predict(iris_test[iris.feature_names])\n",
        "acc = 100 * accuracy_score(iris_test['target'], iris_pred)\n",
        "print(f\"Accuracy: {round(acc, 2)}%\")"
      ]
    },
    {
      "cell_type": "markdown",
      "metadata": {
        "id": "7EOBTfyN1Sd_"
      },
      "source": [
        "---\n",
        "**Regresja**\n",
        "\n",
        "  Przejdźmy teraz do regresji. Naszym celem jest przewidzenie ilości alkoholu w winie na podstawie innych cech. Proces będzie bardzo podobny do klasyfikacji."
      ]
    },
    {
      "cell_type": "code",
      "execution_count": null,
      "metadata": {
        "id": "4eFXkgy91Sd_",
        "outputId": "ff76e5df-3685-4517-ffdc-4b69a4ae77d7"
      },
      "outputs": [
        {
          "data": {
            "text/html": [
              "<div>\n",
              "<style scoped>\n",
              "    .dataframe tbody tr th:only-of-type {\n",
              "        vertical-align: middle;\n",
              "    }\n",
              "\n",
              "    .dataframe tbody tr th {\n",
              "        vertical-align: top;\n",
              "    }\n",
              "\n",
              "    .dataframe thead th {\n",
              "        text-align: right;\n",
              "    }\n",
              "</style>\n",
              "<table border=\"1\" class=\"dataframe\">\n",
              "  <thead>\n",
              "    <tr style=\"text-align: right;\">\n",
              "      <th></th>\n",
              "      <th>alcohol</th>\n",
              "      <th>malic_acid</th>\n",
              "      <th>ash</th>\n",
              "      <th>alcalinity_of_ash</th>\n",
              "      <th>magnesium</th>\n",
              "      <th>total_phenols</th>\n",
              "      <th>flavanoids</th>\n",
              "      <th>nonflavanoid_phenols</th>\n",
              "      <th>proanthocyanins</th>\n",
              "      <th>color_intensity</th>\n",
              "      <th>hue</th>\n",
              "      <th>od280/od315_of_diluted_wines</th>\n",
              "      <th>proline</th>\n",
              "      <th>region</th>\n",
              "    </tr>\n",
              "  </thead>\n",
              "  <tbody>\n",
              "    <tr>\n",
              "      <th>0</th>\n",
              "      <td>12.37</td>\n",
              "      <td>1.07</td>\n",
              "      <td>2.10</td>\n",
              "      <td>18.5</td>\n",
              "      <td>88.0</td>\n",
              "      <td>3.52</td>\n",
              "      <td>3.75</td>\n",
              "      <td>0.24</td>\n",
              "      <td>1.95</td>\n",
              "      <td>4.5</td>\n",
              "      <td>1.04</td>\n",
              "      <td>2.77</td>\n",
              "      <td>660.0</td>\n",
              "      <td>1</td>\n",
              "    </tr>\n",
              "    <tr>\n",
              "      <th>1</th>\n",
              "      <td>11.81</td>\n",
              "      <td>2.12</td>\n",
              "      <td>2.74</td>\n",
              "      <td>21.5</td>\n",
              "      <td>134.0</td>\n",
              "      <td>1.60</td>\n",
              "      <td>0.99</td>\n",
              "      <td>0.14</td>\n",
              "      <td>1.56</td>\n",
              "      <td>2.5</td>\n",
              "      <td>0.95</td>\n",
              "      <td>2.26</td>\n",
              "      <td>625.0</td>\n",
              "      <td>1</td>\n",
              "    </tr>\n",
              "    <tr>\n",
              "      <th>2</th>\n",
              "      <td>13.50</td>\n",
              "      <td>3.12</td>\n",
              "      <td>2.62</td>\n",
              "      <td>24.0</td>\n",
              "      <td>123.0</td>\n",
              "      <td>1.40</td>\n",
              "      <td>1.57</td>\n",
              "      <td>0.22</td>\n",
              "      <td>1.25</td>\n",
              "      <td>8.6</td>\n",
              "      <td>0.59</td>\n",
              "      <td>1.30</td>\n",
              "      <td>500.0</td>\n",
              "      <td>2</td>\n",
              "    </tr>\n",
              "    <tr>\n",
              "      <th>3</th>\n",
              "      <td>13.16</td>\n",
              "      <td>3.57</td>\n",
              "      <td>2.15</td>\n",
              "      <td>21.0</td>\n",
              "      <td>102.0</td>\n",
              "      <td>1.50</td>\n",
              "      <td>0.55</td>\n",
              "      <td>0.43</td>\n",
              "      <td>1.30</td>\n",
              "      <td>4.0</td>\n",
              "      <td>0.60</td>\n",
              "      <td>1.68</td>\n",
              "      <td>830.0</td>\n",
              "      <td>2</td>\n",
              "    </tr>\n",
              "    <tr>\n",
              "      <th>4</th>\n",
              "      <td>13.63</td>\n",
              "      <td>1.81</td>\n",
              "      <td>2.70</td>\n",
              "      <td>17.2</td>\n",
              "      <td>112.0</td>\n",
              "      <td>2.85</td>\n",
              "      <td>2.91</td>\n",
              "      <td>0.30</td>\n",
              "      <td>1.46</td>\n",
              "      <td>7.3</td>\n",
              "      <td>1.28</td>\n",
              "      <td>2.88</td>\n",
              "      <td>1310.0</td>\n",
              "      <td>0</td>\n",
              "    </tr>\n",
              "  </tbody>\n",
              "</table>\n",
              "</div>"
            ],
            "text/plain": [
              "   alcohol  malic_acid   ash  alcalinity_of_ash  magnesium  total_phenols  \\\n",
              "0    12.37        1.07  2.10               18.5       88.0           3.52   \n",
              "1    11.81        2.12  2.74               21.5      134.0           1.60   \n",
              "2    13.50        3.12  2.62               24.0      123.0           1.40   \n",
              "3    13.16        3.57  2.15               21.0      102.0           1.50   \n",
              "4    13.63        1.81  2.70               17.2      112.0           2.85   \n",
              "\n",
              "   flavanoids  nonflavanoid_phenols  proanthocyanins  color_intensity   hue  \\\n",
              "0        3.75                  0.24             1.95              4.5  1.04   \n",
              "1        0.99                  0.14             1.56              2.5  0.95   \n",
              "2        1.57                  0.22             1.25              8.6  0.59   \n",
              "3        0.55                  0.43             1.30              4.0  0.60   \n",
              "4        2.91                  0.30             1.46              7.3  1.28   \n",
              "\n",
              "   od280/od315_of_diluted_wines  proline  region  \n",
              "0                          2.77    660.0       1  \n",
              "1                          2.26    625.0       1  \n",
              "2                          1.30    500.0       2  \n",
              "3                          1.68    830.0       2  \n",
              "4                          2.88   1310.0       0  "
            ]
          },
          "execution_count": 41,
          "metadata": {},
          "output_type": "execute_result"
        }
      ],
      "source": [
        "wine = load_wine()\n",
        "wine_X = wine.data\n",
        "wine_y = wine.target\n",
        "wine_arr = np.concatenate([wine_X, wine_y.reshape(-1, 1)], axis=1)\n",
        "df_wine = pd.DataFrame(\n",
        "    wine_arr,\n",
        "    columns=wine.feature_names + ['region']\n",
        ")\n",
        "df_wine = df_wine.sample(frac=1).reset_index(drop=True)\n",
        "df_wine['region'] = df_wine['region'].astype(int)\n",
        "\n",
        "df_wine.head()"
      ]
    },
    {
      "cell_type": "code",
      "execution_count": null,
      "metadata": {
        "id": "Emf_XFgL1SeA",
        "outputId": "3c2304c9-6576-463e-e6b6-63daa091ef52"
      },
      "outputs": [
        {
          "name": "stdout",
          "output_type": "stream",
          "text": [
            "<class 'pandas.core.frame.DataFrame'>\n",
            "RangeIndex: 178 entries, 0 to 177\n",
            "Data columns (total 14 columns):\n",
            " #   Column                        Non-Null Count  Dtype  \n",
            "---  ------                        --------------  -----  \n",
            " 0   alcohol                       178 non-null    float64\n",
            " 1   malic_acid                    178 non-null    float64\n",
            " 2   ash                           178 non-null    float64\n",
            " 3   alcalinity_of_ash             178 non-null    float64\n",
            " 4   magnesium                     178 non-null    float64\n",
            " 5   total_phenols                 178 non-null    float64\n",
            " 6   flavanoids                    178 non-null    float64\n",
            " 7   nonflavanoid_phenols          178 non-null    float64\n",
            " 8   proanthocyanins               178 non-null    float64\n",
            " 9   color_intensity               178 non-null    float64\n",
            " 10  hue                           178 non-null    float64\n",
            " 11  od280/od315_of_diluted_wines  178 non-null    float64\n",
            " 12  proline                       178 non-null    float64\n",
            " 13  region                        178 non-null    int64  \n",
            "dtypes: float64(13), int64(1)\n",
            "memory usage: 19.6 KB\n"
          ]
        }
      ],
      "source": [
        "df_wine.info()"
      ]
    },
    {
      "cell_type": "code",
      "execution_count": null,
      "metadata": {
        "id": "TjJV7ydZ1SeA",
        "outputId": "bc9a5edf-e706-4c6e-b7c0-fce217090397"
      },
      "outputs": [
        {
          "data": {
            "text/html": [
              "<div>\n",
              "<style scoped>\n",
              "    .dataframe tbody tr th:only-of-type {\n",
              "        vertical-align: middle;\n",
              "    }\n",
              "\n",
              "    .dataframe tbody tr th {\n",
              "        vertical-align: top;\n",
              "    }\n",
              "\n",
              "    .dataframe thead th {\n",
              "        text-align: right;\n",
              "    }\n",
              "</style>\n",
              "<table border=\"1\" class=\"dataframe\">\n",
              "  <thead>\n",
              "    <tr style=\"text-align: right;\">\n",
              "      <th></th>\n",
              "      <th>alcohol</th>\n",
              "      <th>malic_acid</th>\n",
              "      <th>ash</th>\n",
              "      <th>alcalinity_of_ash</th>\n",
              "      <th>magnesium</th>\n",
              "      <th>total_phenols</th>\n",
              "      <th>flavanoids</th>\n",
              "      <th>nonflavanoid_phenols</th>\n",
              "      <th>proanthocyanins</th>\n",
              "      <th>color_intensity</th>\n",
              "      <th>hue</th>\n",
              "      <th>od280/od315_of_diluted_wines</th>\n",
              "      <th>proline</th>\n",
              "      <th>region</th>\n",
              "    </tr>\n",
              "  </thead>\n",
              "  <tbody>\n",
              "    <tr>\n",
              "      <th>count</th>\n",
              "      <td>178.000000</td>\n",
              "      <td>178.000000</td>\n",
              "      <td>178.000000</td>\n",
              "      <td>178.000000</td>\n",
              "      <td>178.000000</td>\n",
              "      <td>178.000000</td>\n",
              "      <td>178.000000</td>\n",
              "      <td>178.000000</td>\n",
              "      <td>178.000000</td>\n",
              "      <td>178.000000</td>\n",
              "      <td>178.000000</td>\n",
              "      <td>178.000000</td>\n",
              "      <td>178.000000</td>\n",
              "      <td>178.000000</td>\n",
              "    </tr>\n",
              "    <tr>\n",
              "      <th>mean</th>\n",
              "      <td>13.000618</td>\n",
              "      <td>2.336348</td>\n",
              "      <td>2.366517</td>\n",
              "      <td>19.494944</td>\n",
              "      <td>99.741573</td>\n",
              "      <td>2.295112</td>\n",
              "      <td>2.029270</td>\n",
              "      <td>0.361854</td>\n",
              "      <td>1.590899</td>\n",
              "      <td>5.058090</td>\n",
              "      <td>0.957449</td>\n",
              "      <td>2.611685</td>\n",
              "      <td>746.893258</td>\n",
              "      <td>0.938202</td>\n",
              "    </tr>\n",
              "    <tr>\n",
              "      <th>std</th>\n",
              "      <td>0.811827</td>\n",
              "      <td>1.117146</td>\n",
              "      <td>0.274344</td>\n",
              "      <td>3.339564</td>\n",
              "      <td>14.282484</td>\n",
              "      <td>0.625851</td>\n",
              "      <td>0.998859</td>\n",
              "      <td>0.124453</td>\n",
              "      <td>0.572359</td>\n",
              "      <td>2.318286</td>\n",
              "      <td>0.228572</td>\n",
              "      <td>0.709990</td>\n",
              "      <td>314.907474</td>\n",
              "      <td>0.775035</td>\n",
              "    </tr>\n",
              "    <tr>\n",
              "      <th>min</th>\n",
              "      <td>11.030000</td>\n",
              "      <td>0.740000</td>\n",
              "      <td>1.360000</td>\n",
              "      <td>10.600000</td>\n",
              "      <td>70.000000</td>\n",
              "      <td>0.980000</td>\n",
              "      <td>0.340000</td>\n",
              "      <td>0.130000</td>\n",
              "      <td>0.410000</td>\n",
              "      <td>1.280000</td>\n",
              "      <td>0.480000</td>\n",
              "      <td>1.270000</td>\n",
              "      <td>278.000000</td>\n",
              "      <td>0.000000</td>\n",
              "    </tr>\n",
              "    <tr>\n",
              "      <th>25%</th>\n",
              "      <td>12.362500</td>\n",
              "      <td>1.602500</td>\n",
              "      <td>2.210000</td>\n",
              "      <td>17.200000</td>\n",
              "      <td>88.000000</td>\n",
              "      <td>1.742500</td>\n",
              "      <td>1.205000</td>\n",
              "      <td>0.270000</td>\n",
              "      <td>1.250000</td>\n",
              "      <td>3.220000</td>\n",
              "      <td>0.782500</td>\n",
              "      <td>1.937500</td>\n",
              "      <td>500.500000</td>\n",
              "      <td>0.000000</td>\n",
              "    </tr>\n",
              "    <tr>\n",
              "      <th>50%</th>\n",
              "      <td>13.050000</td>\n",
              "      <td>1.865000</td>\n",
              "      <td>2.360000</td>\n",
              "      <td>19.500000</td>\n",
              "      <td>98.000000</td>\n",
              "      <td>2.355000</td>\n",
              "      <td>2.135000</td>\n",
              "      <td>0.340000</td>\n",
              "      <td>1.555000</td>\n",
              "      <td>4.690000</td>\n",
              "      <td>0.965000</td>\n",
              "      <td>2.780000</td>\n",
              "      <td>673.500000</td>\n",
              "      <td>1.000000</td>\n",
              "    </tr>\n",
              "    <tr>\n",
              "      <th>75%</th>\n",
              "      <td>13.677500</td>\n",
              "      <td>3.082500</td>\n",
              "      <td>2.557500</td>\n",
              "      <td>21.500000</td>\n",
              "      <td>107.000000</td>\n",
              "      <td>2.800000</td>\n",
              "      <td>2.875000</td>\n",
              "      <td>0.437500</td>\n",
              "      <td>1.950000</td>\n",
              "      <td>6.200000</td>\n",
              "      <td>1.120000</td>\n",
              "      <td>3.170000</td>\n",
              "      <td>985.000000</td>\n",
              "      <td>2.000000</td>\n",
              "    </tr>\n",
              "    <tr>\n",
              "      <th>max</th>\n",
              "      <td>14.830000</td>\n",
              "      <td>5.800000</td>\n",
              "      <td>3.230000</td>\n",
              "      <td>30.000000</td>\n",
              "      <td>162.000000</td>\n",
              "      <td>3.880000</td>\n",
              "      <td>5.080000</td>\n",
              "      <td>0.660000</td>\n",
              "      <td>3.580000</td>\n",
              "      <td>13.000000</td>\n",
              "      <td>1.710000</td>\n",
              "      <td>4.000000</td>\n",
              "      <td>1680.000000</td>\n",
              "      <td>2.000000</td>\n",
              "    </tr>\n",
              "  </tbody>\n",
              "</table>\n",
              "</div>"
            ],
            "text/plain": [
              "          alcohol  malic_acid         ash  alcalinity_of_ash   magnesium  \\\n",
              "count  178.000000  178.000000  178.000000         178.000000  178.000000   \n",
              "mean    13.000618    2.336348    2.366517          19.494944   99.741573   \n",
              "std      0.811827    1.117146    0.274344           3.339564   14.282484   \n",
              "min     11.030000    0.740000    1.360000          10.600000   70.000000   \n",
              "25%     12.362500    1.602500    2.210000          17.200000   88.000000   \n",
              "50%     13.050000    1.865000    2.360000          19.500000   98.000000   \n",
              "75%     13.677500    3.082500    2.557500          21.500000  107.000000   \n",
              "max     14.830000    5.800000    3.230000          30.000000  162.000000   \n",
              "\n",
              "       total_phenols  flavanoids  nonflavanoid_phenols  proanthocyanins  \\\n",
              "count     178.000000  178.000000            178.000000       178.000000   \n",
              "mean        2.295112    2.029270              0.361854         1.590899   \n",
              "std         0.625851    0.998859              0.124453         0.572359   \n",
              "min         0.980000    0.340000              0.130000         0.410000   \n",
              "25%         1.742500    1.205000              0.270000         1.250000   \n",
              "50%         2.355000    2.135000              0.340000         1.555000   \n",
              "75%         2.800000    2.875000              0.437500         1.950000   \n",
              "max         3.880000    5.080000              0.660000         3.580000   \n",
              "\n",
              "       color_intensity         hue  od280/od315_of_diluted_wines      proline  \\\n",
              "count       178.000000  178.000000                    178.000000   178.000000   \n",
              "mean          5.058090    0.957449                      2.611685   746.893258   \n",
              "std           2.318286    0.228572                      0.709990   314.907474   \n",
              "min           1.280000    0.480000                      1.270000   278.000000   \n",
              "25%           3.220000    0.782500                      1.937500   500.500000   \n",
              "50%           4.690000    0.965000                      2.780000   673.500000   \n",
              "75%           6.200000    1.120000                      3.170000   985.000000   \n",
              "max          13.000000    1.710000                      4.000000  1680.000000   \n",
              "\n",
              "           region  \n",
              "count  178.000000  \n",
              "mean     0.938202  \n",
              "std      0.775035  \n",
              "min      0.000000  \n",
              "25%      0.000000  \n",
              "50%      1.000000  \n",
              "75%      2.000000  \n",
              "max      2.000000  "
            ]
          },
          "execution_count": 43,
          "metadata": {},
          "output_type": "execute_result"
        }
      ],
      "source": [
        "df_wine.describe()"
      ]
    },
    {
      "cell_type": "code",
      "execution_count": null,
      "metadata": {
        "id": "PfvBP6U71SeA",
        "outputId": "11a1c82a-0816-4c68-864b-b9bd1d593fb5"
      },
      "outputs": [
        {
          "name": "stdout",
          "output_type": "stream",
          "text": [
            "Mean Absolute Error: 0.614\n"
          ]
        }
      ],
      "source": [
        "wine_train, wine_test = train_test_split(df_wine, test_size=0.25)\n",
        "wine_model = KNeighborsRegressor(n_neighbors=1)\n",
        "wine_model.fit(wine_train.drop(columns='alcohol'), wine_train['alcohol'])\n",
        "wine_pred = wine_model.predict(wine_test.drop(columns='alcohol'))\n",
        "mae = mean_absolute_error(wine_test['alcohol'], wine_pred)\n",
        "print(f\"Mean Absolute Error: {round(mae, 3)}\")"
      ]
    },
    {
      "cell_type": "markdown",
      "metadata": {
        "id": "tKjEmE-l1SeA"
      },
      "source": [
        "---\n",
        "## Normalizacja danych"
      ]
    },
    {
      "cell_type": "markdown",
      "metadata": {
        "id": "wtOnLvC91SeB"
      },
      "source": [
        "Wrzucenie jednak danych do modelu bez większego myślenia nie jest czymś, co odróżnia nas od małpy. Prawdziwa zabawa zaczyna się w miejscu kiedy zaczniemy patrzeć co nasze dane nam mówią."
      ]
    },
    {
      "cell_type": "code",
      "execution_count": null,
      "metadata": {
        "id": "ks6bv4_D1SeB",
        "outputId": "bf3c48a3-a77e-436f-bc4f-be10bbc59695"
      },
      "outputs": [
        {
          "data": {
            "image/png": "[encoded data removed]",
            "text/plain": [
              "<Figure size 1200x1500 with 3 Axes>"
            ]
          },
          "metadata": {},
          "output_type": "display_data"
        }
      ],
      "source": [
        "columns = ['alcohol', 'magnesium', 'ash']\n",
        "fig, axes = plt.subplots(nrows=3, ncols=1, figsize=(12, 15))\n",
        "\n",
        "for ax, col in zip(axes, columns):\n",
        "    sns.kdeplot(df_wine[col], ax=ax, label='Przed normalizacją', linestyle='-', color='blue', fill=True)\n",
        "    ax.set_title(f'PDF dla kolumny: {col}')\n",
        "    ax.set_xlabel('Wartość')\n",
        "    ax.set_ylabel('Gęstość')\n",
        "    ax.legend()\n",
        "\n",
        "plt.tight_layout()\n",
        "plt.show()\n"
      ]
    },
    {
      "cell_type": "markdown",
      "metadata": {
        "id": "JodGvT-J1SeB"
      },
      "source": [
        "KNN robi predykcje na podstawie odległości punktów. Patrząc po naszych danych `magnesium` ma wartości rzędu kilkadziesiąt, a `ash` wartości rzędu kilku. To znaczy, że wcześniej `magnesium` miał bardzo duży wpływ na wynik. Dlatego zastosujemy normalizację danych:\n",
        "\n",
        "$$V=\\frac{V - \\text{mean}(V)}{\\text{std}(V)}$$\n",
        "\n",
        "Dzięki temu pozbywamy się \"ludzkich\" jednostek, a nasz rozkłady wartości stają się bardziej matematyczne"
      ]
    },
    {
      "cell_type": "code",
      "execution_count": null,
      "metadata": {
        "id": "KkbLIUX81SeG",
        "outputId": "6d5c6d3b-5f00-475e-feed-6a5ef0086342"
      },
      "outputs": [
        {
          "data": {
            "image/png": "[encoded data removed]",
            "text/plain": [
              "<Figure size 1200x1500 with 3 Axes>"
            ]
          },
          "metadata": {},
          "output_type": "display_data"
        }
      ],
      "source": [
        "columns = ['alcohol', 'magnesium', 'ash']\n",
        "fig, axes = plt.subplots(nrows=3, ncols=1, figsize=(12, 15))\n",
        "\n",
        "for ax, col in zip(axes, columns):\n",
        "    sns.kdeplot(df_wine[col], ax=ax, label='Przed normalizacją', linestyle='-', color='blue', fill=True)\n",
        "    normalized = (df_wine[col] - df_wine[col].mean()) / df_wine[col].std()\n",
        "    sns.kdeplot(normalized, ax=ax, label='Po normalizacji', linestyle='-', color='red', fill=True)\n",
        "    ax.set_title(f'Porównanie PDF dla kolumny: {col}')\n",
        "    ax.set_xlabel('Wartość')\n",
        "    ax.set_ylabel('Gęstość')\n",
        "    ax.legend()\n",
        "\n",
        "plt.tight_layout()\n",
        "plt.show()"
      ]
    },
    {
      "cell_type": "markdown",
      "metadata": {
        "id": "7X_sRPnW1SeI"
      },
      "source": [
        "Zastosujmy to na naszych danych i sprawdźmy jak zmieniły się rozkłady wartości"
      ]
    },
    {
      "cell_type": "code",
      "execution_count": null,
      "metadata": {
        "id": "KimTA2aW1SeI",
        "outputId": "83a59b00-89b1-47a5-f7ef-9d8b733df586"
      },
      "outputs": [
        {
          "data": {
            "text/html": [
              "<div>\n",
              "<style scoped>\n",
              "    .dataframe tbody tr th:only-of-type {\n",
              "        vertical-align: middle;\n",
              "    }\n",
              "\n",
              "    .dataframe tbody tr th {\n",
              "        vertical-align: top;\n",
              "    }\n",
              "\n",
              "    .dataframe thead th {\n",
              "        text-align: right;\n",
              "    }\n",
              "</style>\n",
              "<table border=\"1\" class=\"dataframe\">\n",
              "  <thead>\n",
              "    <tr style=\"text-align: right;\">\n",
              "      <th></th>\n",
              "      <th>alcohol</th>\n",
              "      <th>malic_acid</th>\n",
              "      <th>ash</th>\n",
              "      <th>alcalinity_of_ash</th>\n",
              "      <th>magnesium</th>\n",
              "      <th>total_phenols</th>\n",
              "      <th>flavanoids</th>\n",
              "      <th>nonflavanoid_phenols</th>\n",
              "      <th>proanthocyanins</th>\n",
              "      <th>color_intensity</th>\n",
              "      <th>hue</th>\n",
              "      <th>od280/od315_of_diluted_wines</th>\n",
              "      <th>proline</th>\n",
              "      <th>region</th>\n",
              "    </tr>\n",
              "  </thead>\n",
              "  <tbody>\n",
              "    <tr>\n",
              "      <th>0</th>\n",
              "      <td>14.23</td>\n",
              "      <td>1.71</td>\n",
              "      <td>2.43</td>\n",
              "      <td>15.6</td>\n",
              "      <td>127.0</td>\n",
              "      <td>2.80</td>\n",
              "      <td>3.06</td>\n",
              "      <td>0.28</td>\n",
              "      <td>2.29</td>\n",
              "      <td>5.64</td>\n",
              "      <td>1.04</td>\n",
              "      <td>3.92</td>\n",
              "      <td>1065.0</td>\n",
              "      <td>0.0</td>\n",
              "    </tr>\n",
              "    <tr>\n",
              "      <th>1</th>\n",
              "      <td>13.20</td>\n",
              "      <td>1.78</td>\n",
              "      <td>2.14</td>\n",
              "      <td>11.2</td>\n",
              "      <td>100.0</td>\n",
              "      <td>2.65</td>\n",
              "      <td>2.76</td>\n",
              "      <td>0.26</td>\n",
              "      <td>1.28</td>\n",
              "      <td>4.38</td>\n",
              "      <td>1.05</td>\n",
              "      <td>3.40</td>\n",
              "      <td>1050.0</td>\n",
              "      <td>0.0</td>\n",
              "    </tr>\n",
              "    <tr>\n",
              "      <th>2</th>\n",
              "      <td>13.16</td>\n",
              "      <td>2.36</td>\n",
              "      <td>2.67</td>\n",
              "      <td>18.6</td>\n",
              "      <td>101.0</td>\n",
              "      <td>2.80</td>\n",
              "      <td>3.24</td>\n",
              "      <td>0.30</td>\n",
              "      <td>2.81</td>\n",
              "      <td>5.68</td>\n",
              "      <td>1.03</td>\n",
              "      <td>3.17</td>\n",
              "      <td>1185.0</td>\n",
              "      <td>0.0</td>\n",
              "    </tr>\n",
              "    <tr>\n",
              "      <th>3</th>\n",
              "      <td>14.37</td>\n",
              "      <td>1.95</td>\n",
              "      <td>2.50</td>\n",
              "      <td>16.8</td>\n",
              "      <td>113.0</td>\n",
              "      <td>3.85</td>\n",
              "      <td>3.49</td>\n",
              "      <td>0.24</td>\n",
              "      <td>2.18</td>\n",
              "      <td>7.80</td>\n",
              "      <td>0.86</td>\n",
              "      <td>3.45</td>\n",
              "      <td>1480.0</td>\n",
              "      <td>0.0</td>\n",
              "    </tr>\n",
              "    <tr>\n",
              "      <th>4</th>\n",
              "      <td>13.24</td>\n",
              "      <td>2.59</td>\n",
              "      <td>2.87</td>\n",
              "      <td>21.0</td>\n",
              "      <td>118.0</td>\n",
              "      <td>2.80</td>\n",
              "      <td>2.69</td>\n",
              "      <td>0.39</td>\n",
              "      <td>1.82</td>\n",
              "      <td>4.32</td>\n",
              "      <td>1.04</td>\n",
              "      <td>2.93</td>\n",
              "      <td>735.0</td>\n",
              "      <td>0.0</td>\n",
              "    </tr>\n",
              "  </tbody>\n",
              "</table>\n",
              "</div>"
            ],
            "text/plain": [
              "   alcohol  malic_acid   ash  alcalinity_of_ash  magnesium  total_phenols  \\\n",
              "0    14.23        1.71  2.43               15.6      127.0           2.80   \n",
              "1    13.20        1.78  2.14               11.2      100.0           2.65   \n",
              "2    13.16        2.36  2.67               18.6      101.0           2.80   \n",
              "3    14.37        1.95  2.50               16.8      113.0           3.85   \n",
              "4    13.24        2.59  2.87               21.0      118.0           2.80   \n",
              "\n",
              "   flavanoids  nonflavanoid_phenols  proanthocyanins  color_intensity   hue  \\\n",
              "0        3.06                  0.28             2.29             5.64  1.04   \n",
              "1        2.76                  0.26             1.28             4.38  1.05   \n",
              "2        3.24                  0.30             2.81             5.68  1.03   \n",
              "3        3.49                  0.24             2.18             7.80  0.86   \n",
              "4        2.69                  0.39             1.82             4.32  1.04   \n",
              "\n",
              "   od280/od315_of_diluted_wines  proline  region  \n",
              "0                          3.92   1065.0     0.0  \n",
              "1                          3.40   1050.0     0.0  \n",
              "2                          3.17   1185.0     0.0  \n",
              "3                          3.45   1480.0     0.0  \n",
              "4                          2.93    735.0     0.0  "
            ]
          },
          "execution_count": 47,
          "metadata": {},
          "output_type": "execute_result"
        }
      ],
      "source": [
        "wine = load_wine()\n",
        "wine_X = wine.data\n",
        "wine_y = wine.target\n",
        "wine_arr = np.concatenate([wine_X, wine_y.reshape(-1, 1)], axis=1)\n",
        "df_wine = pd.DataFrame(\n",
        "    wine_arr,\n",
        "    columns=wine.feature_names + ['region']\n",
        ")\n",
        "\n",
        "df_wine.head()"
      ]
    },
    {
      "cell_type": "code",
      "execution_count": null,
      "metadata": {
        "id": "tHH02wOf1SeJ",
        "outputId": "12edd970-3f7b-4714-f8de-70c6f28261bf"
      },
      "outputs": [
        {
          "data": {
            "text/html": [
              "<div>\n",
              "<style scoped>\n",
              "    .dataframe tbody tr th:only-of-type {\n",
              "        vertical-align: middle;\n",
              "    }\n",
              "\n",
              "    .dataframe tbody tr th {\n",
              "        vertical-align: top;\n",
              "    }\n",
              "\n",
              "    .dataframe thead th {\n",
              "        text-align: right;\n",
              "    }\n",
              "</style>\n",
              "<table border=\"1\" class=\"dataframe\">\n",
              "  <thead>\n",
              "    <tr style=\"text-align: right;\">\n",
              "      <th></th>\n",
              "      <th>alcohol</th>\n",
              "      <th>malic_acid</th>\n",
              "      <th>ash</th>\n",
              "      <th>alcalinity_of_ash</th>\n",
              "      <th>magnesium</th>\n",
              "      <th>total_phenols</th>\n",
              "      <th>flavanoids</th>\n",
              "      <th>nonflavanoid_phenols</th>\n",
              "      <th>proanthocyanins</th>\n",
              "      <th>color_intensity</th>\n",
              "      <th>hue</th>\n",
              "      <th>od280/od315_of_diluted_wines</th>\n",
              "      <th>proline</th>\n",
              "      <th>region</th>\n",
              "    </tr>\n",
              "  </thead>\n",
              "  <tbody>\n",
              "    <tr>\n",
              "      <th>0</th>\n",
              "      <td>1.514341</td>\n",
              "      <td>-0.560668</td>\n",
              "      <td>0.231400</td>\n",
              "      <td>-1.166303</td>\n",
              "      <td>1.908522</td>\n",
              "      <td>0.806722</td>\n",
              "      <td>1.031908</td>\n",
              "      <td>-0.657708</td>\n",
              "      <td>1.221438</td>\n",
              "      <td>0.251009</td>\n",
              "      <td>0.361158</td>\n",
              "      <td>1.842721</td>\n",
              "      <td>1.010159</td>\n",
              "      <td>-1.210529</td>\n",
              "    </tr>\n",
              "    <tr>\n",
              "      <th>1</th>\n",
              "      <td>0.245597</td>\n",
              "      <td>-0.498009</td>\n",
              "      <td>-0.825667</td>\n",
              "      <td>-2.483841</td>\n",
              "      <td>0.018094</td>\n",
              "      <td>0.567048</td>\n",
              "      <td>0.731565</td>\n",
              "      <td>-0.818411</td>\n",
              "      <td>-0.543189</td>\n",
              "      <td>-0.292496</td>\n",
              "      <td>0.404908</td>\n",
              "      <td>1.110317</td>\n",
              "      <td>0.962526</td>\n",
              "      <td>-1.210529</td>\n",
              "    </tr>\n",
              "    <tr>\n",
              "      <th>2</th>\n",
              "      <td>0.196325</td>\n",
              "      <td>0.021172</td>\n",
              "      <td>1.106214</td>\n",
              "      <td>-0.267982</td>\n",
              "      <td>0.088110</td>\n",
              "      <td>0.806722</td>\n",
              "      <td>1.212114</td>\n",
              "      <td>-0.497005</td>\n",
              "      <td>2.129959</td>\n",
              "      <td>0.268263</td>\n",
              "      <td>0.317409</td>\n",
              "      <td>0.786369</td>\n",
              "      <td>1.391224</td>\n",
              "      <td>-1.210529</td>\n",
              "    </tr>\n",
              "    <tr>\n",
              "      <th>3</th>\n",
              "      <td>1.686791</td>\n",
              "      <td>-0.345835</td>\n",
              "      <td>0.486554</td>\n",
              "      <td>-0.806975</td>\n",
              "      <td>0.928300</td>\n",
              "      <td>2.484437</td>\n",
              "      <td>1.462399</td>\n",
              "      <td>-0.979113</td>\n",
              "      <td>1.029251</td>\n",
              "      <td>1.182732</td>\n",
              "      <td>-0.426341</td>\n",
              "      <td>1.180741</td>\n",
              "      <td>2.328007</td>\n",
              "      <td>-1.210529</td>\n",
              "    </tr>\n",
              "    <tr>\n",
              "      <th>4</th>\n",
              "      <td>0.294868</td>\n",
              "      <td>0.227053</td>\n",
              "      <td>1.835226</td>\n",
              "      <td>0.450674</td>\n",
              "      <td>1.278379</td>\n",
              "      <td>0.806722</td>\n",
              "      <td>0.661485</td>\n",
              "      <td>0.226158</td>\n",
              "      <td>0.400275</td>\n",
              "      <td>-0.318377</td>\n",
              "      <td>0.361158</td>\n",
              "      <td>0.448336</td>\n",
              "      <td>-0.037767</td>\n",
              "      <td>-1.210529</td>\n",
              "    </tr>\n",
              "  </tbody>\n",
              "</table>\n",
              "</div>"
            ],
            "text/plain": [
              "    alcohol  malic_acid       ash  alcalinity_of_ash  magnesium  \\\n",
              "0  1.514341   -0.560668  0.231400          -1.166303   1.908522   \n",
              "1  0.245597   -0.498009 -0.825667          -2.483841   0.018094   \n",
              "2  0.196325    0.021172  1.106214          -0.267982   0.088110   \n",
              "3  1.686791   -0.345835  0.486554          -0.806975   0.928300   \n",
              "4  0.294868    0.227053  1.835226           0.450674   1.278379   \n",
              "\n",
              "   total_phenols  flavanoids  nonflavanoid_phenols  proanthocyanins  \\\n",
              "0       0.806722    1.031908             -0.657708         1.221438   \n",
              "1       0.567048    0.731565             -0.818411        -0.543189   \n",
              "2       0.806722    1.212114             -0.497005         2.129959   \n",
              "3       2.484437    1.462399             -0.979113         1.029251   \n",
              "4       0.806722    0.661485              0.226158         0.400275   \n",
              "\n",
              "   color_intensity       hue  od280/od315_of_diluted_wines   proline    region  \n",
              "0         0.251009  0.361158                      1.842721  1.010159 -1.210529  \n",
              "1        -0.292496  0.404908                      1.110317  0.962526 -1.210529  \n",
              "2         0.268263  0.317409                      0.786369  1.391224 -1.210529  \n",
              "3         1.182732 -0.426341                      1.180741  2.328007 -1.210529  \n",
              "4        -0.318377  0.361158                      0.448336 -0.037767 -1.210529  "
            ]
          },
          "execution_count": 48,
          "metadata": {},
          "output_type": "execute_result"
        }
      ],
      "source": [
        "### HERE! ###\n",
        "avg = df_wine.mean()\n",
        "std = df_wine.std()\n",
        "df_wine = (df_wine - avg) / std\n",
        "\n",
        "df_wine.head()"
      ]
    },
    {
      "cell_type": "code",
      "execution_count": null,
      "metadata": {
        "id": "zSD6b6XE1SeJ",
        "outputId": "48d04afb-559d-4b4c-9e8e-d7848cc4b656"
      },
      "outputs": [
        {
          "name": "stdout",
          "output_type": "stream",
          "text": [
            "[-1.23255145  0.0854641   1.25566482 -0.65361004 -0.60433843  0.6151339\n",
            " -1.39268418 -0.49347731 -0.77678907  0.92308146 -0.77678907  0.96003516\n",
            "  0.89844565  0.19632522  2.15487169 -0.78910697 -1.13400823  1.60056608\n",
            " -0.92460389  1.10784999 -0.49347731  0.6397697  -0.65361004  0.71367712\n",
            " -0.78910697  1.39116174  0.59049809  1.47738706 -0.82606067 -1.70063174\n",
            "  1.6867914   1.35420804 -1.02314711  0.44268327  0.03619249  0.29486844\n",
            " -0.18552975 -1.66367803 -0.49347731 -0.16089395  0.6151339  -1.03546501\n",
            "  0.6274518  -1.65136013 -0.9615576 ]\n"
          ]
        }
      ],
      "source": [
        "wine_train, wine_test = train_test_split(df_wine, test_size=0.25)\n",
        "wine_model = KNeighborsRegressor(n_neighbors=1)\n",
        "wine_model.fit(wine_train.drop(columns='alcohol'), wine_train['alcohol'])\n",
        "wine_pred = wine_model.predict(wine_test.drop(columns='alcohol'))\n",
        "print(wine_pred)"
      ]
    },
    {
      "cell_type": "markdown",
      "metadata": {
        "id": "TMZ1xeLf1SeJ"
      },
      "source": [
        "To co widzimy powyżej, to są nasze predykcje. Natomiast jak można prosto zauważyć, występują tutaj jakieś wartości ujemne, co nie ma sensu w przypadku predyckji ilości alkoholu. Wszystko to wynika z tego, że zrobiliśmy normalizację również na kolumnie **alcohol**, więc musimy teraz to naprawić."
      ]
    },
    {
      "cell_type": "code",
      "execution_count": null,
      "metadata": {
        "id": "GjGQrrAE1SeJ",
        "outputId": "74631862-859b-4d0e-ac21-eb4423a6c1af"
      },
      "outputs": [
        {
          "name": "stdout",
          "output_type": "stream",
          "text": [
            "Mean Absolute Error: 0.538\n"
          ]
        }
      ],
      "source": [
        "### HERE! ###\n",
        "wine_y_real = wine_test['alcohol'].values * std['alcohol'] + avg['alcohol']\n",
        "wine_pred = wine_pred * std['alcohol'] + avg['alcohol']\n",
        "\n",
        "mae = mean_absolute_error(wine_y_real, wine_pred)\n",
        "print(f\"Mean Absolute Error: {round(mae, 3)}\")"
      ]
    },
    {
      "cell_type": "markdown",
      "metadata": {
        "id": "HbcrGKwv1SeK"
      },
      "source": [
        "Normalizacja danych poprawiła wynik o ok. 0.8pp. Nie powinno być to zaskoczeniem, jeżeli weźmiemy pod uwagę, że KNN bazuje na odległościach pomiędzy punktami, a większość pomiarów jest w mierzona w jednostkach zrozumiałych dla człowieka."
      ]
    },
    {
      "cell_type": "markdown",
      "metadata": {
        "id": "lDWxhrnO1SeR"
      },
      "source": [
        "---\n",
        "## One Hot Encoding"
      ]
    },
    {
      "cell_type": "markdown",
      "metadata": {
        "id": "uAS-UbDP1SeR"
      },
      "source": [
        "Z danymi powyżej mamy jeden problem. Cecha region jest liczbą tylko dlatego, że zrobiliśmy ją taką dla wygody. W rzeczywistości jest to cecha kategoryczna, czyli taka, która nie ma sensu w kontekście liczbowym. W takim przypadku możemy zastosować **One Hot Encoding**. Polega on na zamianie jednej kolumny na $n$ kolumn, gdzie $n$ to liczba unikalnych wartości w kolumnie. W każdej z nowych kolumn znajduje się 1, jeżeli dany wiersz należy do danej klasy, a w pozostałych 0.\n",
        "\n",
        "<img src=\"https://github.com/aghbit/BIT-AI-Intro/blob/main/lab_01/assets/ohe.png?raw=1\" width=\"800\"/>"
      ]
    },
    {
      "cell_type": "code",
      "execution_count": null,
      "metadata": {
        "id": "JVL9jy1p1SeR",
        "outputId": "ce1ff3bc-d466-40f2-8259-8a5dfdadfc43"
      },
      "outputs": [
        {
          "data": {
            "text/html": [
              "<div>\n",
              "<style scoped>\n",
              "    .dataframe tbody tr th:only-of-type {\n",
              "        vertical-align: middle;\n",
              "    }\n",
              "\n",
              "    .dataframe tbody tr th {\n",
              "        vertical-align: top;\n",
              "    }\n",
              "\n",
              "    .dataframe thead th {\n",
              "        text-align: right;\n",
              "    }\n",
              "</style>\n",
              "<table border=\"1\" class=\"dataframe\">\n",
              "  <thead>\n",
              "    <tr style=\"text-align: right;\">\n",
              "      <th></th>\n",
              "      <th>alcohol</th>\n",
              "      <th>malic_acid</th>\n",
              "      <th>ash</th>\n",
              "      <th>alcalinity_of_ash</th>\n",
              "      <th>magnesium</th>\n",
              "      <th>total_phenols</th>\n",
              "      <th>flavanoids</th>\n",
              "      <th>nonflavanoid_phenols</th>\n",
              "      <th>proanthocyanins</th>\n",
              "      <th>color_intensity</th>\n",
              "      <th>hue</th>\n",
              "      <th>od280/od315_of_diluted_wines</th>\n",
              "      <th>proline</th>\n",
              "      <th>region_0</th>\n",
              "      <th>region_1</th>\n",
              "      <th>region_2</th>\n",
              "    </tr>\n",
              "  </thead>\n",
              "  <tbody>\n",
              "    <tr>\n",
              "      <th>0</th>\n",
              "      <td>12.86</td>\n",
              "      <td>1.35</td>\n",
              "      <td>2.32</td>\n",
              "      <td>18.0</td>\n",
              "      <td>122.0</td>\n",
              "      <td>1.51</td>\n",
              "      <td>1.25</td>\n",
              "      <td>0.21</td>\n",
              "      <td>0.94</td>\n",
              "      <td>4.10</td>\n",
              "      <td>0.76</td>\n",
              "      <td>1.29</td>\n",
              "      <td>630.0</td>\n",
              "      <td>False</td>\n",
              "      <td>False</td>\n",
              "      <td>True</td>\n",
              "    </tr>\n",
              "    <tr>\n",
              "      <th>1</th>\n",
              "      <td>12.37</td>\n",
              "      <td>1.17</td>\n",
              "      <td>1.92</td>\n",
              "      <td>19.6</td>\n",
              "      <td>78.0</td>\n",
              "      <td>2.11</td>\n",
              "      <td>2.00</td>\n",
              "      <td>0.27</td>\n",
              "      <td>1.04</td>\n",
              "      <td>4.68</td>\n",
              "      <td>1.12</td>\n",
              "      <td>3.48</td>\n",
              "      <td>510.0</td>\n",
              "      <td>False</td>\n",
              "      <td>True</td>\n",
              "      <td>False</td>\n",
              "    </tr>\n",
              "    <tr>\n",
              "      <th>2</th>\n",
              "      <td>12.79</td>\n",
              "      <td>2.67</td>\n",
              "      <td>2.48</td>\n",
              "      <td>22.0</td>\n",
              "      <td>112.0</td>\n",
              "      <td>1.48</td>\n",
              "      <td>1.36</td>\n",
              "      <td>0.24</td>\n",
              "      <td>1.26</td>\n",
              "      <td>10.80</td>\n",
              "      <td>0.48</td>\n",
              "      <td>1.47</td>\n",
              "      <td>480.0</td>\n",
              "      <td>False</td>\n",
              "      <td>False</td>\n",
              "      <td>True</td>\n",
              "    </tr>\n",
              "    <tr>\n",
              "      <th>3</th>\n",
              "      <td>11.82</td>\n",
              "      <td>1.72</td>\n",
              "      <td>1.88</td>\n",
              "      <td>19.5</td>\n",
              "      <td>86.0</td>\n",
              "      <td>2.50</td>\n",
              "      <td>1.64</td>\n",
              "      <td>0.37</td>\n",
              "      <td>1.42</td>\n",
              "      <td>2.06</td>\n",
              "      <td>0.94</td>\n",
              "      <td>2.44</td>\n",
              "      <td>415.0</td>\n",
              "      <td>False</td>\n",
              "      <td>True</td>\n",
              "      <td>False</td>\n",
              "    </tr>\n",
              "    <tr>\n",
              "      <th>4</th>\n",
              "      <td>13.30</td>\n",
              "      <td>1.72</td>\n",
              "      <td>2.14</td>\n",
              "      <td>17.0</td>\n",
              "      <td>94.0</td>\n",
              "      <td>2.40</td>\n",
              "      <td>2.19</td>\n",
              "      <td>0.27</td>\n",
              "      <td>1.35</td>\n",
              "      <td>3.95</td>\n",
              "      <td>1.02</td>\n",
              "      <td>2.77</td>\n",
              "      <td>1285.0</td>\n",
              "      <td>True</td>\n",
              "      <td>False</td>\n",
              "      <td>False</td>\n",
              "    </tr>\n",
              "  </tbody>\n",
              "</table>\n",
              "</div>"
            ],
            "text/plain": [
              "   alcohol  malic_acid   ash  alcalinity_of_ash  magnesium  total_phenols  \\\n",
              "0    12.86        1.35  2.32               18.0      122.0           1.51   \n",
              "1    12.37        1.17  1.92               19.6       78.0           2.11   \n",
              "2    12.79        2.67  2.48               22.0      112.0           1.48   \n",
              "3    11.82        1.72  1.88               19.5       86.0           2.50   \n",
              "4    13.30        1.72  2.14               17.0       94.0           2.40   \n",
              "\n",
              "   flavanoids  nonflavanoid_phenols  proanthocyanins  color_intensity   hue  \\\n",
              "0        1.25                  0.21             0.94             4.10  0.76   \n",
              "1        2.00                  0.27             1.04             4.68  1.12   \n",
              "2        1.36                  0.24             1.26            10.80  0.48   \n",
              "3        1.64                  0.37             1.42             2.06  0.94   \n",
              "4        2.19                  0.27             1.35             3.95  1.02   \n",
              "\n",
              "   od280/od315_of_diluted_wines  proline  region_0  region_1  region_2  \n",
              "0                          1.29    630.0     False     False      True  \n",
              "1                          3.48    510.0     False      True     False  \n",
              "2                          1.47    480.0     False     False      True  \n",
              "3                          2.44    415.0     False      True     False  \n",
              "4                          2.77   1285.0      True     False     False  "
            ]
          },
          "execution_count": 51,
          "metadata": {},
          "output_type": "execute_result"
        }
      ],
      "source": [
        "wine = load_wine()\n",
        "wine_X = wine.data\n",
        "wine_y = wine.target\n",
        "wine_arr = np.concatenate([wine_X, wine_y.reshape(-1, 1)], axis=1)\n",
        "df_wine = pd.DataFrame(\n",
        "    wine_arr,\n",
        "    columns=wine.feature_names + ['region']\n",
        ")\n",
        "df_wine = df_wine.sample(frac=1).reset_index(drop=True)\n",
        "df_wine['region'] = df_wine['region'].astype(int)\n",
        "\n",
        "### HERE! ###\n",
        "df_wine = pd.get_dummies(df_wine, columns=['region'])\n",
        "\n",
        "df_wine.head()"
      ]
    },
    {
      "cell_type": "markdown",
      "metadata": {
        "id": "_F_Ds37A1SeS"
      },
      "source": [
        "Do tego co już otrzymaliśmy powyżej, dodamy jeszcze normalizację danych."
      ]
    },
    {
      "cell_type": "code",
      "execution_count": null,
      "metadata": {
        "id": "kp-Mu9aU1SeS"
      },
      "outputs": [],
      "source": [
        "avg = df_wine.mean()\n",
        "std = df_wine.std()\n",
        "df_wine = (df_wine - avg) / std"
      ]
    },
    {
      "cell_type": "code",
      "execution_count": null,
      "metadata": {
        "id": "ocRksjCj1SeS",
        "outputId": "4511719d-4bfa-4e67-d99e-0c80e9be5ef3"
      },
      "outputs": [
        {
          "name": "stdout",
          "output_type": "stream",
          "text": [
            "Mean Absolute Error: 0.571\n"
          ]
        }
      ],
      "source": [
        "wine_train, wine_test = train_test_split(df_wine, test_size=0.25)\n",
        "wine_model = KNeighborsRegressor(n_neighbors=1)\n",
        "wine_model.fit(wine_train.drop(columns='alcohol'), wine_train['alcohol'])\n",
        "wine_pred = wine_model.predict(wine_test.drop(columns='alcohol'))\n",
        "wine_y_real = wine_test['alcohol'].values * std['alcohol'] + avg['alcohol']\n",
        "wine_pred = wine_pred * std['alcohol'] + avg['alcohol']\n",
        "mae = mean_absolute_error(wine_y_real, wine_pred)\n",
        "print(f\"Mean Absolute Error: {round(mae, 3)}\")"
      ]
    },
    {
      "cell_type": "markdown",
      "metadata": {
        "id": "L7MaSMPy1SeT"
      },
      "source": [
        "Co ciekawe, wynik jest gorszy. Z czego to wynika? Prawdopodobnie dane region nie są aż tak znaczące w przypadku zawartości alkoholu w winie. W takim przypadku można się zastanowić nad usunięciem tej cechy, albo zmniejszenie jej wpływu na wynik. W naszym przypadku, tymczasowo zostawimy ją w spokoju."
      ]
    },
    {
      "cell_type": "markdown",
      "metadata": {
        "id": "_qPjKvrI1SeT"
      },
      "source": [
        "---\n",
        "## Brakujące dane"
      ]
    },
    {
      "cell_type": "markdown",
      "metadata": {
        "id": "q4aRqRvf1SeT"
      },
      "source": [
        "W rzeczywistości życie nie jest takie piękne jak w tych przykładach. Często mamy do czynienia z brakującymi danymi. Oczywiście najprościej by było usunąć każdy wiersz, w którym czegoś brakuje, natomiast nie jest to dobry pomysł. Najprostszym sposobem na pozbycie się brakujących danych jest uzupełnienie ich średnią wartością. W ten sposób nie wprowadzamy żadnych dodatkowych zależności, a jednocześnie nie tracimy danych."
      ]
    },
    {
      "cell_type": "markdown",
      "metadata": {
        "id": "TUPEOzV11SeU"
      },
      "source": [
        "---\n",
        "## Co dalej?"
      ]
    },
    {
      "cell_type": "markdown",
      "metadata": {
        "id": "EdBIO9Si1SeU"
      },
      "source": [
        "O ile mamy jakieś wyniki, to naszym celem jest uzyskanie jak najlepszych wyników. W związku z tym na przykładzie danych z 'Wine' przejdziemy przez kilka technik, które być może pomogą nam uzyskać lepsze wyniki."
      ]
    },
    {
      "cell_type": "markdown",
      "metadata": {
        "id": "pgb1-ZPA1SeU"
      },
      "source": [
        "---\n",
        "### Cross Validation"
      ]
    },
    {
      "cell_type": "markdown",
      "metadata": {
        "id": "zZJwtfns1SeU"
      },
      "source": [
        "  Idea jest taka, że skoro mamy cały czas tylko jeden zbiór testowy, to nasze wyniki mogą być mocno zależne od tego jakie punkty trafiły do zbioru testowego. W związku z tym możemy podzielić nasz zbiór danych na kilka części i na każdej z nich trenować i testować nasz model. W ten sposób uzyskamy kilka wyników, które będą bardziej stabilne.\n",
        "\n",
        "<img src=\"https://github.com/aghbit/BIT-AI-Intro/blob/main/lab_01/assets/cross_validation.png?raw=1\" width=\"800\"/>\n",
        "\n",
        "  W tym celu użyjemy funkcji **cross_val_score** z biblioteki **scikit-learn**. Funkcja ta przyjmuje jako argumenty:\n",
        "  - model\n",
        "  - dane\n",
        "  - cross validation - ilość podziałów zbioru danych\n",
        "  - scoring - metryka, którą chcemy użyć do oceny modelu"
      ]
    },
    {
      "cell_type": "code",
      "execution_count": null,
      "metadata": {
        "id": "D7yaay1d1SeV",
        "outputId": "7b1c50fa-c1fd-455b-e934-439da8aa51d0"
      },
      "outputs": [
        {
          "name": "stdout",
          "output_type": "stream",
          "text": [
            "[-0.71033237 -0.65859718 -0.5114729  -0.76259013]\n",
            "Mean Absolute Error: 0.661 ± 0.094\n"
          ]
        }
      ],
      "source": [
        "score = cross_val_score(\n",
        "    KNeighborsRegressor(n_neighbors=1),\n",
        "    df_wine.drop(columns='alcohol'),\n",
        "    df_wine['alcohol'],\n",
        "    scoring='neg_mean_absolute_error',\n",
        "    cv=4\n",
        ")\n",
        "print(score)\n",
        "\n",
        "mae = -score.mean()\n",
        "std = score.std()\n",
        "\n",
        "print(f\"Mean Absolute Error: {round(mae, 3)} ± {round(std, 3)}\")"
      ]
    },
    {
      "cell_type": "markdown",
      "metadata": {
        "id": "1SaPb0fO1SeW"
      },
      "source": [
        "Jak możemy zobaczyć, wyniki wahają się od -0.78 do -0.62, więc rzeczywiście dobór danych testowych ma duże znaczenie. Dodatkowo wszystkie wartości są ujemne, natomiast to raczej jest efekt wybranego przez nas parametru **scoring**, który po prostu implementuje to w taki sposób. Dla ułatiwnia sobie życia, napiszemy teraz funkcję, która przeprowadzi nam cały trening i zwróci nam średni wynik i odchylenie standardowe z cross validation."
      ]
    },
    {
      "cell_type": "markdown",
      "metadata": {
        "id": "00BAQTLr1SeW"
      },
      "source": [
        "---\n",
        "### Optymalizacja hiperparametrów\n"
      ]
    },
    {
      "cell_type": "markdown",
      "metadata": {
        "id": "60qAV2j81SeW"
      },
      "source": [
        "KNN w implementacji z **scikit-learn** ma kilka hiperparametrów, które możemy optymalizować. Część z nich jest zbyt ciężka żeby je teraz analizować, a część z nich odnosi się tylko do wydajności algorytmu. Wszytkie hiperparametry można znaleźć w dokumentacji [scikit-learn](https://scikit-learn.org/dev/modules/generated/sklearn.neighbors.KNeighborsRegressor.html#sklearn.neighbors.KNeighborsRegressor).\n",
        "\n",
        "My skupimy się na trzech, które będziemy optymalizować:\n",
        "- **n_neighbors** - liczba sąsiadów\n",
        "- **weights** - wagi, które mają być przypisane do sąsiadów\n",
        "  - **uniform** - wszyscy sąsiedzi mają taką samą wagę\n",
        "  - **distance** - im bliżej punktu, tym ma większą wagę\n",
        "- **p** - siła metryki Minkowskiego\n",
        "  - $p=1$ to metryka Manhattan\n",
        "  - $p=2$ to metryka Euklidesowa\n",
        "\n",
        "Samo ustawienie hiperparametrów jest proste, wystarczy podać je jako argumenty do klasy **KNeighborsRegressor**."
      ]
    },
    {
      "cell_type": "code",
      "execution_count": null,
      "metadata": {
        "id": "y6qDOsw91SeW",
        "outputId": "c646e125-d8cb-4f25-9f1a-eb68aad7c0f5"
      },
      "outputs": [
        {
          "name": "stdout",
          "output_type": "stream",
          "text": [
            "Mean Absolute Error: 0.626%\n"
          ]
        }
      ],
      "source": [
        "params = {\n",
        "    'n_neighbors': 3,\n",
        "    'weights': 'uniform',\n",
        "    'p': 2\n",
        "}\n",
        "wine_model = KNeighborsRegressor(**params)\n",
        "wine_model.fit(wine_train.drop(columns='alcohol'), wine_train['alcohol'])\n",
        "wine_pred = wine_model.predict(wine_test.drop(columns='alcohol'))\n",
        "mae = mean_absolute_error(wine_test['alcohol'], wine_pred)\n",
        "print(f\"Mean Absolute Error: {round(mae, 3)}%\")"
      ]
    },
    {
      "cell_type": "markdown",
      "metadata": {
        "id": "6HHyCJ0m1SeX"
      },
      "source": [
        "Jak widać powyżej, wynik się poprawił o ~1.3pp. Czy to duża poprawa? Wcześniej widzieliśmy, że średnio zawartość alkoholu wynosi 13%, więc na pewno trochę to robi różnicę.\n",
        "\n",
        "Natomiast zgadywanie ręczne hiperparametrów to raczej słaby pomysł. Dlatego też mamy narzędzia, które robią to za nas.\n",
        "- **Grid Search** - sprawdza wszystkie możliwe kombinacje hiperparametrów\n",
        "- **Random Search** - sprawdza losowe kombinacje hiperparametrów\n",
        "- **Bayesian Optimization** - wykorzystuje statystykę do optymalizacji hiperparametrów\n",
        "- **Optuna** - biblioteka, która implementuje różne algorytmy optymalizacji hiperparametrów\n",
        "\n",
        "Na początku zaimplementujemy kilka funkcji pomocniczych"
      ]
    },
    {
      "cell_type": "code",
      "execution_count": null,
      "metadata": {
        "id": "nL6xFkTw1SeY"
      },
      "outputs": [],
      "source": [
        "def log_parameters(params):\n",
        "    print(f\"Parameters:\")\n",
        "    for k, v in params.items():\n",
        "        print(f\"\\t{k}: {v}\")\n",
        "\n",
        "def log_scores(mean, std):\n",
        "    print(f\"Mean Absolute Error: {round(mean, 3)} ± {round(std, 3)}\", end='\\n' + 60 * '-' + '\\n')\n",
        "\n",
        "def run_knn_cv(verbose=0, **params):\n",
        "    model = KNeighborsRegressor(**params)\n",
        "    scores = cross_val_score(\n",
        "        model,\n",
        "        df_wine.drop(columns='alcohol'),\n",
        "        df_wine['alcohol'],\n",
        "        scoring='neg_mean_absolute_error',\n",
        "        cv=4\n",
        "    )\n",
        "    mean, std = -scores.mean(), scores.std()\n",
        "    if verbose > 0:\n",
        "        if verbose > 1:\n",
        "            log_parameters(params)\n",
        "        log_scores(mean, std)\n",
        "    return mean, std"
      ]
    },
    {
      "cell_type": "markdown",
      "metadata": {
        "id": "MABBkX7m1SeY"
      },
      "source": [
        "A teraz zaimplementujemy **Grid Search**, który jest najprostszym z nich. Warto zaznaczyć, że uruchomienie **Grid Search** może być kosztowne obliczeniowo, więc nie zawsze jesteśmy w stanie to zrobić."
      ]
    },
    {
      "cell_type": "code",
      "execution_count": null,
      "metadata": {
        "id": "Q4ZaErry1SeY"
      },
      "outputs": [],
      "source": [
        "def grid_search(**params):\n",
        "    keys, values = zip(*params.items())\n",
        "    for v in product(*values):\n",
        "        yield dict(zip(keys, v))\n",
        "\n",
        "def run_grid_search(**params):\n",
        "    best_score = float('inf')\n",
        "    total_iterations = np.prod([len(v) for v in params.values()])\n",
        "    best_params = None\n",
        "    pbar = tqdm(grid_search(**params), total=total_iterations)\n",
        "\n",
        "    for p in pbar:\n",
        "        mean, std = run_knn_cv(**p)\n",
        "        if mean < best_score:\n",
        "            best_score = mean\n",
        "            best_std = std\n",
        "            best_params = p\n",
        "        pbar.set_postfix({'Best MAE': round(best_score, 3)})\n",
        "\n",
        "    log_parameters(best_params)\n",
        "    log_scores(best_score, best_std)"
      ]
    },
    {
      "cell_type": "markdown",
      "metadata": {
        "id": "XsHD8qsi1SeZ"
      },
      "source": [
        "I teraz możemy puścić nasz **Grid Search**"
      ]
    },
    {
      "cell_type": "code",
      "execution_count": null,
      "metadata": {
        "id": "1yJQg8kB1SeZ",
        "outputId": "6f0399f9-f72f-4754-ace2-f6b2368ec83b"
      },
      "outputs": [
        {
          "name": "stderr",
          "output_type": "stream",
          "text": [
            "100%|██████████| 1800/1800 [00:31<00:00, 56.68it/s, Best MAE=0.474]"
          ]
        },
        {
          "name": "stdout",
          "output_type": "stream",
          "text": [
            "Parameters:\n",
            "\tn_neighbors: 14\n",
            "\tweights: distance\n",
            "\tp: 1.1\n",
            "Mean Absolute Error: 0.474 ± 0.013\n",
            "------------------------------------------------------------\n"
          ]
        },
        {
          "name": "stderr",
          "output_type": "stream",
          "text": [
            "\n"
          ]
        }
      ],
      "source": [
        "params = {\n",
        "    'n_neighbors': [i for i in range(1, 31)],\n",
        "    'weights': ['uniform', 'distance'],\n",
        "    'p': [1 + 0.1 * i for i in range(1, 31)]\n",
        "}\n",
        "\n",
        "run_grid_search(**params)"
      ]
    },
    {
      "cell_type": "markdown",
      "metadata": {
        "id": "f26nf8Xk1SeZ"
      },
      "source": [
        "Ostatecznie doszliśmy do średniego wyniku 0.474, co jest o ~1.4pp lepsze niż nasza pierwsza próba. Czy może być lepiej? Jak zwykle to zalezy."
      ]
    },
    {
      "cell_type": "markdown",
      "metadata": {
        "id": "otrgCS8M1SeZ"
      },
      "source": [
        "---\n",
        "## Zadanie A"
      ]
    },
    {
      "cell_type": "markdown",
      "metadata": {
        "id": "Qd0okeIg1Sea"
      },
      "source": [
        "Celem tego zadania, jest przeprowadzenie własnego treningu modelu KNN na zbiorze danych **Titanic**. Zbiór danych zawiera informacje o pasażerach Titanica, którzy przeżyli katastrofę. Naszym celem jest przewidzenie, czy dany pasażer przeżył czy nie. Do przetestowania jak dobre są wasze modele, wydzielimy sobie zbiór testowy, który będzie zawierał 30% danych. Na samym końcu porównamy wyniki."
      ]
    },
    {
      "cell_type": "code",
      "execution_count": null,
      "metadata": {
        "id": "5bFXh_4V1Sea",
        "outputId": "a539849b-b5a6-48a8-dea7-2895b1f6fc04"
      },
      "outputs": [
        {
          "data": {
            "text/html": [
              "<div>\n",
              "<style scoped>\n",
              "    .dataframe tbody tr th:only-of-type {\n",
              "        vertical-align: middle;\n",
              "    }\n",
              "\n",
              "    .dataframe tbody tr th {\n",
              "        vertical-align: top;\n",
              "    }\n",
              "\n",
              "    .dataframe thead th {\n",
              "        text-align: right;\n",
              "    }\n",
              "</style>\n",
              "<table border=\"1\" class=\"dataframe\">\n",
              "  <thead>\n",
              "    <tr style=\"text-align: right;\">\n",
              "      <th></th>\n",
              "      <th>PassengerId</th>\n",
              "      <th>Pclass</th>\n",
              "      <th>Name</th>\n",
              "      <th>Sex</th>\n",
              "      <th>Age</th>\n",
              "      <th>SibSp</th>\n",
              "      <th>Parch</th>\n",
              "      <th>Ticket</th>\n",
              "      <th>Fare</th>\n",
              "      <th>Cabin</th>\n",
              "      <th>Embarked</th>\n",
              "    </tr>\n",
              "  </thead>\n",
              "  <tbody>\n",
              "    <tr>\n",
              "      <th>0</th>\n",
              "      <td>892</td>\n",
              "      <td>3</td>\n",
              "      <td>Kelly, Mr. James</td>\n",
              "      <td>male</td>\n",
              "      <td>34.5</td>\n",
              "      <td>0</td>\n",
              "      <td>0</td>\n",
              "      <td>330911</td>\n",
              "      <td>7.8292</td>\n",
              "      <td>NaN</td>\n",
              "      <td>Q</td>\n",
              "    </tr>\n",
              "    <tr>\n",
              "      <th>1</th>\n",
              "      <td>893</td>\n",
              "      <td>3</td>\n",
              "      <td>Wilkes, Mrs. James (Ellen Needs)</td>\n",
              "      <td>female</td>\n",
              "      <td>47.0</td>\n",
              "      <td>1</td>\n",
              "      <td>0</td>\n",
              "      <td>363272</td>\n",
              "      <td>7.0000</td>\n",
              "      <td>NaN</td>\n",
              "      <td>S</td>\n",
              "    </tr>\n",
              "    <tr>\n",
              "      <th>2</th>\n",
              "      <td>894</td>\n",
              "      <td>2</td>\n",
              "      <td>Myles, Mr. Thomas Francis</td>\n",
              "      <td>male</td>\n",
              "      <td>62.0</td>\n",
              "      <td>0</td>\n",
              "      <td>0</td>\n",
              "      <td>240276</td>\n",
              "      <td>9.6875</td>\n",
              "      <td>NaN</td>\n",
              "      <td>Q</td>\n",
              "    </tr>\n",
              "    <tr>\n",
              "      <th>3</th>\n",
              "      <td>895</td>\n",
              "      <td>3</td>\n",
              "      <td>Wirz, Mr. Albert</td>\n",
              "      <td>male</td>\n",
              "      <td>27.0</td>\n",
              "      <td>0</td>\n",
              "      <td>0</td>\n",
              "      <td>315154</td>\n",
              "      <td>8.6625</td>\n",
              "      <td>NaN</td>\n",
              "      <td>S</td>\n",
              "    </tr>\n",
              "    <tr>\n",
              "      <th>4</th>\n",
              "      <td>896</td>\n",
              "      <td>3</td>\n",
              "      <td>Hirvonen, Mrs. Alexander (Helga E Lindqvist)</td>\n",
              "      <td>female</td>\n",
              "      <td>22.0</td>\n",
              "      <td>1</td>\n",
              "      <td>1</td>\n",
              "      <td>3101298</td>\n",
              "      <td>12.2875</td>\n",
              "      <td>NaN</td>\n",
              "      <td>S</td>\n",
              "    </tr>\n",
              "  </tbody>\n",
              "</table>\n",
              "</div>"
            ],
            "text/plain": [
              "   PassengerId  Pclass                                          Name     Sex  \\\n",
              "0          892       3                              Kelly, Mr. James    male   \n",
              "1          893       3              Wilkes, Mrs. James (Ellen Needs)  female   \n",
              "2          894       2                     Myles, Mr. Thomas Francis    male   \n",
              "3          895       3                              Wirz, Mr. Albert    male   \n",
              "4          896       3  Hirvonen, Mrs. Alexander (Helga E Lindqvist)  female   \n",
              "\n",
              "    Age  SibSp  Parch   Ticket     Fare Cabin Embarked  \n",
              "0  34.5      0      0   330911   7.8292   NaN        Q  \n",
              "1  47.0      1      0   363272   7.0000   NaN        S  \n",
              "2  62.0      0      0   240276   9.6875   NaN        Q  \n",
              "3  27.0      0      0   315154   8.6625   NaN        S  \n",
              "4  22.0      1      1  3101298  12.2875   NaN        S  "
            ]
          },
          "execution_count": 59,
          "metadata": {},
          "output_type": "execute_result"
        }
      ],
      "source": [
        "def train_test_split(path: Path, train_size: float=0.7) -> tuple[pd.DataFrame, pd.DataFrame]:\n",
        "    df = pd.read_csv(path)\n",
        "    n = len(df)\n",
        "    train, test = df.iloc[:int(n * train_size)], df.iloc[int(n * train_size):]\n",
        "    return train, test\n",
        "\n",
        "df_train, df_test = train_test_split(Path('data/titanic.csv'))\n",
        "X_train, y_train = df_train.drop(columns='Survived'), df_train['Survived']\n",
        "X_test, y_test = df_test.drop(columns='Survived'), df_test['Survived']\n",
        "X_train.head()"
      ]
    },
    {
      "cell_type": "code",
      "execution_count": null,
      "metadata": {
        "id": "26XTo0Xm1Sea",
        "outputId": "972e9f94-52bb-4c5f-c0d2-cd141b92818f"
      },
      "outputs": [
        {
          "name": "stdout",
          "output_type": "stream",
          "text": [
            "<class 'pandas.core.frame.DataFrame'>\n",
            "RangeIndex: 292 entries, 0 to 291\n",
            "Data columns (total 11 columns):\n",
            " #   Column       Non-Null Count  Dtype  \n",
            "---  ------       --------------  -----  \n",
            " 0   PassengerId  292 non-null    int64  \n",
            " 1   Pclass       292 non-null    int64  \n",
            " 2   Name         292 non-null    object \n",
            " 3   Sex          292 non-null    object \n",
            " 4   Age          227 non-null    float64\n",
            " 5   SibSp        292 non-null    int64  \n",
            " 6   Parch        292 non-null    int64  \n",
            " 7   Ticket       292 non-null    object \n",
            " 8   Fare         291 non-null    float64\n",
            " 9   Cabin        60 non-null     object \n",
            " 10  Embarked     292 non-null    object \n",
            "dtypes: float64(2), int64(4), object(5)\n",
            "memory usage: 25.2+ KB\n"
          ]
        }
      ],
      "source": [
        "X_train.info()"
      ]
    },
    {
      "cell_type": "code",
      "execution_count": null,
      "metadata": {
        "id": "uuezmpSu1Seb",
        "outputId": "126b0165-cb74-45c3-cd52-d1968496e902"
      },
      "outputs": [
        {
          "data": {
            "text/html": [
              "<div>\n",
              "<style scoped>\n",
              "    .dataframe tbody tr th:only-of-type {\n",
              "        vertical-align: middle;\n",
              "    }\n",
              "\n",
              "    .dataframe tbody tr th {\n",
              "        vertical-align: top;\n",
              "    }\n",
              "\n",
              "    .dataframe thead th {\n",
              "        text-align: right;\n",
              "    }\n",
              "</style>\n",
              "<table border=\"1\" class=\"dataframe\">\n",
              "  <thead>\n",
              "    <tr style=\"text-align: right;\">\n",
              "      <th></th>\n",
              "      <th>PassengerId</th>\n",
              "      <th>Pclass</th>\n",
              "      <th>Age</th>\n",
              "      <th>SibSp</th>\n",
              "      <th>Parch</th>\n",
              "      <th>Fare</th>\n",
              "    </tr>\n",
              "  </thead>\n",
              "  <tbody>\n",
              "    <tr>\n",
              "      <th>count</th>\n",
              "      <td>292.000000</td>\n",
              "      <td>292.000000</td>\n",
              "      <td>227.000000</td>\n",
              "      <td>292.000000</td>\n",
              "      <td>292.000000</td>\n",
              "      <td>291.000000</td>\n",
              "    </tr>\n",
              "    <tr>\n",
              "      <th>mean</th>\n",
              "      <td>1037.500000</td>\n",
              "      <td>2.291096</td>\n",
              "      <td>30.015419</td>\n",
              "      <td>0.438356</td>\n",
              "      <td>0.359589</td>\n",
              "      <td>34.103236</td>\n",
              "    </tr>\n",
              "    <tr>\n",
              "      <th>std</th>\n",
              "      <td>84.437354</td>\n",
              "      <td>0.841895</td>\n",
              "      <td>14.247297</td>\n",
              "      <td>0.857332</td>\n",
              "      <td>0.839823</td>\n",
              "      <td>53.001186</td>\n",
              "    </tr>\n",
              "    <tr>\n",
              "      <th>min</th>\n",
              "      <td>892.000000</td>\n",
              "      <td>1.000000</td>\n",
              "      <td>0.330000</td>\n",
              "      <td>0.000000</td>\n",
              "      <td>0.000000</td>\n",
              "      <td>0.000000</td>\n",
              "    </tr>\n",
              "    <tr>\n",
              "      <th>25%</th>\n",
              "      <td>964.750000</td>\n",
              "      <td>1.750000</td>\n",
              "      <td>21.000000</td>\n",
              "      <td>0.000000</td>\n",
              "      <td>0.000000</td>\n",
              "      <td>7.895800</td>\n",
              "    </tr>\n",
              "    <tr>\n",
              "      <th>50%</th>\n",
              "      <td>1037.500000</td>\n",
              "      <td>3.000000</td>\n",
              "      <td>27.000000</td>\n",
              "      <td>0.000000</td>\n",
              "      <td>0.000000</td>\n",
              "      <td>14.400000</td>\n",
              "    </tr>\n",
              "    <tr>\n",
              "      <th>75%</th>\n",
              "      <td>1110.250000</td>\n",
              "      <td>3.000000</td>\n",
              "      <td>39.000000</td>\n",
              "      <td>1.000000</td>\n",
              "      <td>0.000000</td>\n",
              "      <td>28.518750</td>\n",
              "    </tr>\n",
              "    <tr>\n",
              "      <th>max</th>\n",
              "      <td>1183.000000</td>\n",
              "      <td>3.000000</td>\n",
              "      <td>76.000000</td>\n",
              "      <td>8.000000</td>\n",
              "      <td>6.000000</td>\n",
              "      <td>263.000000</td>\n",
              "    </tr>\n",
              "  </tbody>\n",
              "</table>\n",
              "</div>"
            ],
            "text/plain": [
              "       PassengerId      Pclass         Age       SibSp       Parch        Fare\n",
              "count   292.000000  292.000000  227.000000  292.000000  292.000000  291.000000\n",
              "mean   1037.500000    2.291096   30.015419    0.438356    0.359589   34.103236\n",
              "std      84.437354    0.841895   14.247297    0.857332    0.839823   53.001186\n",
              "min     892.000000    1.000000    0.330000    0.000000    0.000000    0.000000\n",
              "25%     964.750000    1.750000   21.000000    0.000000    0.000000    7.895800\n",
              "50%    1037.500000    3.000000   27.000000    0.000000    0.000000   14.400000\n",
              "75%    1110.250000    3.000000   39.000000    1.000000    0.000000   28.518750\n",
              "max    1183.000000    3.000000   76.000000    8.000000    6.000000  263.000000"
            ]
          },
          "execution_count": 61,
          "metadata": {},
          "output_type": "execute_result"
        }
      ],
      "source": [
        "X_train.describe()"
      ]
    },
    {
      "cell_type": "markdown",
      "metadata": {
        "id": "3Xp8nu4L1Seb"
      },
      "source": [
        "Do uzupełnienia są dwie funkcje:\n",
        "- **process_X** - Funkcja, która przyjmuje zbiór danych i zwraca zbiór danych, który można wykorzystać do trenowania modelu. Ważne jest to, żeby nie usuwać żadnych wierszy i poradzić sobie z brakującymi danymi. Kolumny można usuwać, ale warto zastanowić się czy nie można z nich wyciągnąć jakiejś informacji.\n",
        "- **train_model** - Funkcja, która przyjmuje zbiór danych (**X**) i etykiety (**y**) i zwraca model. W tej funkcji należy zaimplementować trenowanie modelu KNN. Warto zwrócić uwagę, że nie musi być to jeden trening. Możemy wstawić tutaj poznane wcześniej **Cross Validation** oraz **Grid Search**."
      ]
    },
    {
      "cell_type": "code",
      "execution_count": null,
      "metadata": {
        "id": "f806fB2h1Seb"
      },
      "outputs": [],
      "source": [
        "def process_X(df: pd.DataFrame) -> pd.DataFrame:\n",
        "    raise NotImplementedError\n",
        "\n",
        "\n",
        "def train_model(X: pd.DataFrame, y: pd.DataFrame) -> KNeighborsClassifier:\n",
        "    raise NotImplementedError"
      ]
    },
    {
      "cell_type": "markdown",
      "metadata": {
        "id": "KzYCP5-A1Sec"
      },
      "source": [
        "I teraz możemy sprawdzić jak dobrze działa nasz model."
      ]
    },
    {
      "cell_type": "code",
      "execution_count": null,
      "metadata": {
        "id": "BcV85orH1Sec",
        "outputId": "67c0ca29-47cc-4cd5-b098-c9ba8e20be87"
      },
      "outputs": [
        {
          "ename": "NotImplementedError",
          "evalue": "",
          "output_type": "error",
          "traceback": [
            "\u001b[0;31m---------------------------------------------------------------------------\u001b[0m",
            "\u001b[0;31mNotImplementedError\u001b[0m                       Traceback (most recent call last)",
            "Cell \u001b[0;32mIn[63], line 1\u001b[0m\n\u001b[0;32m----> 1\u001b[0m X_train \u001b[38;5;241m=\u001b[39m \u001b[43mprocess_X\u001b[49m\u001b[43m(\u001b[49m\u001b[43mX_train\u001b[49m\u001b[43m)\u001b[49m\n\u001b[1;32m      2\u001b[0m \u001b[38;5;28;01massert\u001b[39;00m \u001b[38;5;28misinstance\u001b[39m(X_train, pd\u001b[38;5;241m.\u001b[39mDataFrame), \u001b[38;5;124m\"\u001b[39m\u001b[38;5;124mprocess_X should return a DataFrame\u001b[39m\u001b[38;5;124m\"\u001b[39m\n\u001b[1;32m      4\u001b[0m model \u001b[38;5;241m=\u001b[39m train_model(X_train, y_train)\n",
            "Cell \u001b[0;32mIn[62], line 2\u001b[0m, in \u001b[0;36mprocess_X\u001b[0;34m(df)\u001b[0m\n\u001b[1;32m      1\u001b[0m \u001b[38;5;28;01mdef\u001b[39;00m\u001b[38;5;250m \u001b[39m\u001b[38;5;21mprocess_X\u001b[39m(df: pd\u001b[38;5;241m.\u001b[39mDataFrame) \u001b[38;5;241m-\u001b[39m\u001b[38;5;241m>\u001b[39m pd\u001b[38;5;241m.\u001b[39mDataFrame:\n\u001b[0;32m----> 2\u001b[0m     \u001b[38;5;28;01mraise\u001b[39;00m \u001b[38;5;167;01mNotImplementedError\u001b[39;00m\n",
            "\u001b[0;31mNotImplementedError\u001b[0m: "
          ]
        }
      ],
      "source": [
        "X_train = process_X(X_train)\n",
        "assert isinstance(X_train, pd.DataFrame), \"process_X should return a DataFrame\"\n",
        "\n",
        "model = train_model(X_train, y_train)\n",
        "assert isinstance(model, KNeighborsClassifier), \"train_model should return a KNeighborsClassifier\"\n",
        "\n",
        "X_test = process_X(X_test)\n",
        "y_pred = model.predict(X_test)\n",
        "\n",
        "acc = 100 * accuracy_score(y_test, y_pred)\n",
        "print(f\"Result: {round(acc, 2)}%\")"
      ]
    },
    {
      "cell_type": "markdown",
      "metadata": {
        "id": "0u2E0Cwi1Sec"
      },
      "source": [
        "---\n",
        "## Imbalanced Data"
      ]
    },
    {
      "cell_type": "markdown",
      "metadata": {
        "id": "-pLC1nYR1Sec"
      },
      "source": [
        "Titanic jest przykładem zbioru danych, który jest już trochę niezbalansowany. Dlaczego? Ponieważ odpowiadając za każdym razem, że pasażer nie przeżył, dostaniemy wynik rzędu 63%. W związku z tym warto zastanowić się nad co zrobić z naszymi danymi."
      ]
    },
    {
      "cell_type": "code",
      "execution_count": null,
      "metadata": {
        "id": "KpsZs9mT1Sec",
        "outputId": "66cfa942-b9c2-443d-a743-353bb8bcd530"
      },
      "outputs": [
        {
          "data": {
            "text/html": [
              "<div>\n",
              "<style scoped>\n",
              "    .dataframe tbody tr th:only-of-type {\n",
              "        vertical-align: middle;\n",
              "    }\n",
              "\n",
              "    .dataframe tbody tr th {\n",
              "        vertical-align: top;\n",
              "    }\n",
              "\n",
              "    .dataframe thead th {\n",
              "        text-align: right;\n",
              "    }\n",
              "</style>\n",
              "<table border=\"1\" class=\"dataframe\">\n",
              "  <thead>\n",
              "    <tr style=\"text-align: right;\">\n",
              "      <th></th>\n",
              "      <th>PassengerId</th>\n",
              "      <th>Survived</th>\n",
              "      <th>Pclass</th>\n",
              "      <th>Age</th>\n",
              "      <th>SibSp</th>\n",
              "      <th>Parch</th>\n",
              "      <th>Fare</th>\n",
              "    </tr>\n",
              "  </thead>\n",
              "  <tbody>\n",
              "    <tr>\n",
              "      <th>count</th>\n",
              "      <td>418.000000</td>\n",
              "      <td>418.000000</td>\n",
              "      <td>418.000000</td>\n",
              "      <td>332.000000</td>\n",
              "      <td>418.000000</td>\n",
              "      <td>418.000000</td>\n",
              "      <td>417.000000</td>\n",
              "    </tr>\n",
              "    <tr>\n",
              "      <th>mean</th>\n",
              "      <td>1100.500000</td>\n",
              "      <td>0.363636</td>\n",
              "      <td>2.265550</td>\n",
              "      <td>30.272590</td>\n",
              "      <td>0.447368</td>\n",
              "      <td>0.392344</td>\n",
              "      <td>35.627188</td>\n",
              "    </tr>\n",
              "    <tr>\n",
              "      <th>std</th>\n",
              "      <td>120.810458</td>\n",
              "      <td>0.481622</td>\n",
              "      <td>0.841838</td>\n",
              "      <td>14.181209</td>\n",
              "      <td>0.896760</td>\n",
              "      <td>0.981429</td>\n",
              "      <td>55.907576</td>\n",
              "    </tr>\n",
              "    <tr>\n",
              "      <th>min</th>\n",
              "      <td>892.000000</td>\n",
              "      <td>0.000000</td>\n",
              "      <td>1.000000</td>\n",
              "      <td>0.170000</td>\n",
              "      <td>0.000000</td>\n",
              "      <td>0.000000</td>\n",
              "      <td>0.000000</td>\n",
              "    </tr>\n",
              "    <tr>\n",
              "      <th>25%</th>\n",
              "      <td>996.250000</td>\n",
              "      <td>0.000000</td>\n",
              "      <td>1.000000</td>\n",
              "      <td>21.000000</td>\n",
              "      <td>0.000000</td>\n",
              "      <td>0.000000</td>\n",
              "      <td>7.895800</td>\n",
              "    </tr>\n",
              "    <tr>\n",
              "      <th>50%</th>\n",
              "      <td>1100.500000</td>\n",
              "      <td>0.000000</td>\n",
              "      <td>3.000000</td>\n",
              "      <td>27.000000</td>\n",
              "      <td>0.000000</td>\n",
              "      <td>0.000000</td>\n",
              "      <td>14.454200</td>\n",
              "    </tr>\n",
              "    <tr>\n",
              "      <th>75%</th>\n",
              "      <td>1204.750000</td>\n",
              "      <td>1.000000</td>\n",
              "      <td>3.000000</td>\n",
              "      <td>39.000000</td>\n",
              "      <td>1.000000</td>\n",
              "      <td>0.000000</td>\n",
              "      <td>31.500000</td>\n",
              "    </tr>\n",
              "    <tr>\n",
              "      <th>max</th>\n",
              "      <td>1309.000000</td>\n",
              "      <td>1.000000</td>\n",
              "      <td>3.000000</td>\n",
              "      <td>76.000000</td>\n",
              "      <td>8.000000</td>\n",
              "      <td>9.000000</td>\n",
              "      <td>512.329200</td>\n",
              "    </tr>\n",
              "  </tbody>\n",
              "</table>\n",
              "</div>"
            ],
            "text/plain": [
              "       PassengerId    Survived      Pclass         Age       SibSp  \\\n",
              "count   418.000000  418.000000  418.000000  332.000000  418.000000   \n",
              "mean   1100.500000    0.363636    2.265550   30.272590    0.447368   \n",
              "std     120.810458    0.481622    0.841838   14.181209    0.896760   \n",
              "min     892.000000    0.000000    1.000000    0.170000    0.000000   \n",
              "25%     996.250000    0.000000    1.000000   21.000000    0.000000   \n",
              "50%    1100.500000    0.000000    3.000000   27.000000    0.000000   \n",
              "75%    1204.750000    1.000000    3.000000   39.000000    1.000000   \n",
              "max    1309.000000    1.000000    3.000000   76.000000    8.000000   \n",
              "\n",
              "            Parch        Fare  \n",
              "count  418.000000  417.000000  \n",
              "mean     0.392344   35.627188  \n",
              "std      0.981429   55.907576  \n",
              "min      0.000000    0.000000  \n",
              "25%      0.000000    7.895800  \n",
              "50%      0.000000   14.454200  \n",
              "75%      0.000000   31.500000  \n",
              "max      9.000000  512.329200  "
            ]
          },
          "execution_count": 64,
          "metadata": {},
          "output_type": "execute_result"
        }
      ],
      "source": [
        "df = pd.read_csv('titanic.csv')\n",
        "df.describe()"
      ]
    },
    {
      "cell_type": "code",
      "execution_count": null,
      "metadata": {
        "id": "ndqZ51Bd1Sed",
        "outputId": "d9afa08b-128e-47b3-a2fa-cb4d57c69a9e"
      },
      "outputs": [
        {
          "data": {
            "image/png": "[encoded data removed]",
            "text/plain": [
              "<Figure size 640x480 with 1 Axes>"
            ]
          },
          "metadata": {},
          "output_type": "display_data"
        }
      ],
      "source": [
        "imbalanced_y = np.array(\n",
        "    [20 * np.random.random() for _ in range(int(1e5))] + [10 * np.random.random() + 35 for _ in range(int(1e2))]\n",
        ")\n",
        "\n",
        "plt.hist(imbalanced_y, bins=50)\n",
        "plt.yscale('log')\n",
        "plt.xlim(-1, 46)\n",
        "plt.xticks(range(0, 46, 5))\n",
        "plt.show()"
      ]
    },
    {
      "cell_type": "markdown",
      "metadata": {
        "id": "P2Ow5Z6y1Sed"
      },
      "source": [
        "W tym przypadku możemy wyjść z założenia, że przewidywanie wartości z przedziału $[20, 35]$ nie ma sensu. Oczywiście to nie jest takie proste, ale warto przemyśleć czy takie wartości rzeczywiście nie występują. Natomiast nie to jest głównym problemem w tym przypadku. Problemem jest to, że większość modeli raczej nie będzie w stanie przewidzieć wartości z przedziału $[35, 45]$, ponieważ jest ich po prostu za mało."
      ]
    },
    {
      "cell_type": "markdown",
      "metadata": {
        "id": "NHcOJyKV1See"
      },
      "source": [
        "### Undersampling\n",
        "Jednym z najprostszych sposobów na pozbycie się tego problemu jest **Undersampling**. Polega on na tym, że usuwamy część danych i staramy się uzyskać równą ilość danych dla każdej klasy."
      ]
    },
    {
      "cell_type": "markdown",
      "metadata": {
        "id": "NtDD1LvR1See"
      },
      "source": [
        "### Oversampling\n",
        "\n",
        "O ile usunięcie 10% danych ze zbioru, który ma ich miliony nie jest problemem, to w zbiorach bardzo niezbalansowanych może się okazać, że musimy usunąć ponad 90% wszystkich danych. Brzmi jak utrata bardzo dużej ilości informacji.\n",
        "\n",
        "W takim przypadku możemy spróbować **Oversampling**, czyli dodanie nowych danych do zbioru. Możemy to zrobić na kilka sposobów:\n",
        "- **Random Oversampling** - dodanie losowych danych do zbioru spośród istniejących danych.\n",
        "- **SMOTE** - tworzymy nowe dane na podstawie istniejących danych. Idea jest taka, że bierzemy jakieś punkty leżące blisko siebie i tworzymy nowe punkty pomiędzy nimi. W ten sposób uzyskujemy nowe dane, które są podobne do istniejących danych."
      ]
    },
    {
      "cell_type": "markdown",
      "metadata": {
        "id": "6qRadrmm1See"
      },
      "source": [
        "### Zmiana metryki\n",
        "\n",
        "W przypadku niezbalansowanych danych możemy również wybrać metrykę na taką, która to uwzględnia. Przykładem jest chociażby **Balanced Accuracy**, która jest średnią dokładności dla każdej klasy. W ten sposób nie będziemy karani za to, że mamy więcej danych dla jednej klasy."
      ]
    },
    {
      "cell_type": "markdown",
      "metadata": {
        "id": "9Tkk-H121See"
      },
      "source": [
        "---\n",
        "# Metryki"
      ]
    },
    {
      "cell_type": "markdown",
      "metadata": {
        "id": "ZwAg3iOQ1See"
      },
      "source": [
        "Do naszych predykcji wykorzystujemy metrykę **Accuracy**, natomiast pytanie czy to jest najlepszy wybór na ocenę naszego modelu? Jak zawsze, odpowiedzią jest: To zależy."
      ]
    },
    {
      "cell_type": "markdown",
      "metadata": {
        "id": "4N72fouY1Sef"
      },
      "source": [
        "Zanim przejdziemy do metryk dla problemu klasyfikacji, zacznijmy od przedstawienia takich pojęć jak **True Positive**, **True Negative**, **False Positive** i **False Negative**.\n",
        "\n",
        "- **True Positive (TP)** - Prawdziwie pozytywne wyniki. Nasz model przewidział, że pasażer przeżył i tak było.\n",
        "- **True Negative (TN)** - Prawdziwie negatywne wyniki. Nasz model przewidział, że pasażer nie przeżył i tak było.\n",
        "- **False Positive (FP)** - Fałszywie pozytywne wyniki. Nasz model przewidział, że pasażer przeżył, ale to nie prawda.\n",
        "- **False Negative (FN)** - Fałszywie negatywne wyniki. Nasz model przewidział, że pasażer nie przeżył, ale to nie prawda."
      ]
    },
    {
      "cell_type": "markdown",
      "metadata": {
        "id": "0sLeF_wI1Sef"
      },
      "source": [
        "Podstawowe metryki dla problemów klasyfikacji w przypadku zbioru Titanic:\n",
        "- **Accuracy** - Procent poprawnie sklasyfikowanych pasażerów, wzór:\n",
        "$$\\frac{TP+TN}{TP+TN+FP+FN}$$\n",
        "- **Balanced Accuracy** - Procent poprawnie sklasyfikowanych pasażerów, ale z wagami dla każdej klasy, które są odwrotnością liczby danych w danej klasie, wzór:\n",
        "$$\\frac{TP}{TP+FP} + \\frac{TN}{TN+FN}$$\n",
        "- **Precision** - Określa jaki odsetek przypadków zaklasyfikowanych jako pozytywne faktycznie jest pozytywny, wzór:\n",
        "$$\\frac{TP}{TP+FP}$$\n",
        "- **Recall** - Określa jaki odsetek rzeczywiście pozytywnych przypadków został poprawnie wykryty, wzór:\n",
        "$$\\frac{TP}{TP+FN}$$\n",
        "- **F1 Score** - Średnia harmoniczna z **Precision** i **Recall**, wzór:\n",
        "$$2\\cdot \\frac{Precision \\cdot Recall}{Precision+Recall}$$"
      ]
    },
    {
      "cell_type": "markdown",
      "metadata": {
        "id": "o4zAb6ga1Seg"
      },
      "source": [
        "Tutaj warto zaznaczyć idee idącą za tymi metrykami:\n",
        "- **Precision** - Chcemy, żeby jak najmniej osób, które przewidzieliśmy, że przeżyły, faktycznie nie przeżyło. Czyli chcemy, żeby nasze pozytywne wyniki były jak najbardziej pewne. Jeżeli przeniesiemy nasz problem na przykład na przewidywanie czy dany pasażer ma koronawirusa, to chcemy, żeby jak najmniej osób, które przewidzieliśmy, że mają koronawirusa, faktycznie go nie miało. Dzięki temu moglibyśmy robić testy na lotnisku tylko na osobach, które na pewno mają koronawirusa, kosztem tego, żeby zrobić testy na mniejszej ilości osób.\n",
        "\n",
        "- **Recall** - Chcemy, żeby jak najmniej osób, które przeżyły, zostały źle sklasyfikowane. Czyli chcemy, żeby nasze negatywne wyniki były jak najbardziej pewne. Jeżeli przeniesiemy nasz problem na przykład na przewidywanie czy dany pasażer ma koronawirusa, to chcemy, żeby jak najmniej osób, które mieli koronawirusa, zostało źle sklasyfikowanych. Dzięki temu moglibyśmy zidentyfikować jak najwięcej osób, które mają koronawirusa, kosztem tego, żeby zrobić testy na lotnisku na większej ilości osób.\n",
        "\n",
        "- **F1 Score** - Balans pomiędzy **Precision** i **Recall**. Warto zauważyć, że jest to średnia harmoniczna, a nie arytmetyczna. Dzięki temu, jeżeli jedna z metryk jest bardzo niska, to wynik również będzie niski."
      ]
    },
    {
      "cell_type": "markdown",
      "metadata": {
        "id": "kqfdqhhy1Seg"
      },
      "source": [
        "Wszystkie metryki są dostępne w bibliotece **scikit-learn**."
      ]
    },
    {
      "cell_type": "code",
      "execution_count": null,
      "metadata": {
        "id": "yv83kjHP1Seg"
      },
      "outputs": [],
      "source": [
        "from sklearn.metrics import accuracy_score\n",
        "from sklearn.metrics import balanced_accuracy_score\n",
        "from sklearn.metrics import precision_score\n",
        "from sklearn.metrics import recall_score\n",
        "from sklearn.metrics import f1_score"
      ]
    },
    {
      "cell_type": "markdown",
      "metadata": {
        "id": "vXvQJBMg1Seg"
      },
      "source": [
        "W przypadku problemu regresji sprawa ma się trochę inaczej. Podstawowymi metrykami są:\n",
        "\n",
        "- **Mean Absolute Error** - Średni błąd bezwzględny, wzór:\n",
        "$$\\frac{1}{n}\\sum_{i=1}^{n}|y_i - \\hat{y}_i|$$\n",
        "- **Mean Squared Error** - Średni błąd kwadratowy, wzór:\n",
        "$$\\frac{1}{n}\\sum_{i=1}^{n}(y_i - \\hat{y}_i)^2$$\n",
        "- **Root Mean Squared Error** - Pierwiastek z **Mean Squared Error**, wzór:\n",
        "$$\\sqrt{\\frac{1}{n}\\sum_{i=1}^{n}(y_i - \\hat{y}_i)^2}$$"
      ]
    },
    {
      "cell_type": "markdown",
      "metadata": {
        "id": "xDpsEG4c1Seg"
      },
      "source": [
        "W tym przypadku równiez mówimy o efekcie, który chcemy uzyskać, a interpretować te metryki możemy w następujący sposób.\n",
        "\n",
        "- **MAE** - O ile średnio się myli nasz model. W przypadku problemu zakupu domu, MAE równe 10000 oznacza, że średnio nasze przewidywania różnią się od prawdziwych wartości o 10000.\n",
        "\n",
        "- **MSE** - Idea jest taka sama jak w przypadku **MAE**, natomiast błędy są kwadratowe. W związku z tym większe błędy są bardziej karane. W przypadku problemu zakupu domu, MSE równe 10000 oznacza, że kwadrat różnicy pomiędzy przewidywaną wartością a prawdziwą wynosi średnio 10000, co w rzeczywistości mówi nam, że w rzeczywistości błąd nie powinien być większy niż **100**.\n",
        "\n",
        "- **RMSE** - Tak naprawdę to jest lepsza wersja **MSE**. Wartość tej metryki jest w tych samych jednostkach co nasze dane, co ułatwia interpretację. Znowu model jest karany jeżeli robi większe błędy, ale tym razem jednostki zostają takie jakie powinny."
      ]
    },
    {
      "cell_type": "markdown",
      "metadata": {
        "id": "Q7V4-uXC1Seg"
      },
      "source": [
        "---\n",
        "## Zadanie B"
      ]
    },
    {
      "cell_type": "markdown",
      "metadata": {
        "id": "yzaiBJfQ1Seg"
      },
      "source": [
        "Przetestuj różne metryki klasyfikacji na zbiorze Titanic oraz regresji na zbiorze Wine. Spróbuj zinterpretować wyniki. Wykorzystaj najprostszy model **KNN** w obu przypadkach"
      ]
    },
    {
      "cell_type": "code",
      "execution_count": null,
      "metadata": {
        "id": "XyNA5J5H1Seg"
      },
      "outputs": [],
      "source": [
        "### HERE! ###"
      ]
    },
    {
      "cell_type": "markdown",
      "metadata": {
        "id": "dTJxa5wa1Seg"
      },
      "source": [
        "---\n",
        "# Inne modele ML"
      ]
    },
    {
      "cell_type": "markdown",
      "metadata": {
        "id": "9qNObjP01Seg"
      },
      "source": [
        "## Regresja Liniowa\n",
        "\n",
        "Regresja liniowa to jeden z najprostszych modeli regresji. W przypadku jednej cechy, szukamy takiej prostej postaci:\n",
        "\n",
        "$$y = ax + b$$\n",
        "\n",
        "Gdzie:\n",
        "- $y$ - nasza zmienna, którą chcemy przewidzieć\n",
        "- $x$ - nasza cecha\n",
        "- $a$ - współczynnik kierunkowy\n",
        "- $b$ - wyraz wolny\n",
        "\n",
        "Dla wielowymiarowych danych, nasz wzór wygląda tak:\n",
        "\n",
        "$$y = a_1x_1 + a_2x_2 + \\ldots + a_nx_n + b$$\n",
        "\n",
        "Do szczegółów matematycznych wrócimy w przyszłości, teraz skupimy się na właściwościach tego modelu."
      ]
    },
    {
      "cell_type": "code",
      "execution_count": null,
      "metadata": {
        "id": "4ZEXmCsI1Seh"
      },
      "outputs": [],
      "source": [
        "from sklearn.linear_model import LinearRegression"
      ]
    },
    {
      "cell_type": "markdown",
      "metadata": {
        "id": "faWy-Dxp1Seh"
      },
      "source": [
        "Głównym problemem regresji liniowej jest to, że zakładamy liniową zależność pomiędzy cechami, a wynikiem. W rzeczywistości takie założenie jest bardzo rzadko spełnione. Bardzo prostym przykładem, kiedy niemożliwe jest zastosowanie regresji liniowej jest zbiór danych reprezentujący operację **XOR**.\n",
        "\n",
        "Weźmy 4 punkty:\n",
        "- $(0, 0)$ - wynik 0\n",
        "- $(0, 1)$ - wynik 1\n",
        "- $(1, 0)$ - wynik 1\n",
        "- $(1, 1)$ - wynik 0\n",
        "\n",
        "i nałóżmy je na wykres."
      ]
    },
    {
      "cell_type": "code",
      "execution_count": null,
      "metadata": {
        "id": "DHYp2SBn1Seh",
        "outputId": "c678c330-f56d-4862-a804-75a43f10bcd5"
      },
      "outputs": [
        {
          "data": {
            "image/png": "[encoded data removed]",
            "text/plain": [
              "<Figure size 640x480 with 1 Axes>"
            ]
          },
          "metadata": {},
          "output_type": "display_data"
        }
      ],
      "source": [
        "X = [(0, 0), (1, 0), (0, 1), (1, 1)]\n",
        "y = [0, 1, 1, 0]\n",
        "\n",
        "for i, (x, y_) in enumerate(zip(X, y)):\n",
        "    plt.scatter(*x, color='green' if y_ == 1 else 'red')\n",
        "\n",
        "plt.scatter([], [], color='green', label='1')\n",
        "plt.scatter([], [], color='red', label='0')\n",
        "plt.legend()\n",
        "\n",
        "plt.xlim(-0.5, 1.5)\n",
        "plt.ylim(-0.5, 1.5)\n",
        "\n",
        "plt.show()"
      ]
    },
    {
      "cell_type": "code",
      "execution_count": null,
      "metadata": {
        "id": "4xbxXJA_1Seh",
        "outputId": "2a6477b9-20d7-45d5-8778-8f4b2386dd4e"
      },
      "outputs": [
        {
          "name": "stdout",
          "output_type": "stream",
          "text": [
            "Model: y = 0.0 * x1 + -0.0 * x2 + 0.5\n"
          ]
        }
      ],
      "source": [
        "model = LinearRegression()\n",
        "model.fit(X, y)\n",
        "y_pred = model.predict(X)\n",
        "\n",
        "a = round(model.coef_[0], 3)\n",
        "b = round(model.coef_[1], 3)\n",
        "c = round(model.intercept_, 3)\n",
        "\n",
        "print(f\"Model: y = {a} * x1 + {b} * x2 + {c}\")"
      ]
    },
    {
      "cell_type": "code",
      "execution_count": null,
      "metadata": {
        "id": "JA-YpjqZ1Sei",
        "outputId": "9d4e1076-f7d0-4fc6-ca4d-c87d181040ba"
      },
      "outputs": [
        {
          "data": {
            "image/png": "[encoded data removed]",
            "text/plain": [
              "<Figure size 640x480 with 1 Axes>"
            ]
          },
          "metadata": {},
          "output_type": "display_data"
        }
      ],
      "source": [
        "fig = plt.figure()\n",
        "ax = fig.add_subplot(111, projection='3d')\n",
        "\n",
        "x1 = np.linspace(0, 1, 100)\n",
        "x2 = np.linspace(0, 1, 100)\n",
        "x1, x2 = np.meshgrid(x1, x2)\n",
        "y = a * x1 + b * x2 + c\n",
        "\n",
        "ax.plot_surface(x1, x2, y, alpha=0.5)\n",
        "ax.set_xlabel('x1')\n",
        "ax.set_ylabel('x2')\n",
        "ax.set_zlabel('y')\n",
        "\n",
        "X_xor = [(0, 0), (1, 0), (0, 1), (1, 1)]\n",
        "y_xor = [0, 1, 1, 0]\n",
        "\n",
        "for pt, label in zip(X_xor, y_xor):\n",
        "    ax.scatter(pt[0], pt[1], label, color='green' if label == 1 else 'red')\n",
        "\n",
        "ax.view_init(10, 30)\n",
        "plt.show()"
      ]
    },
    {
      "cell_type": "markdown",
      "metadata": {
        "id": "7G_RZ8C61Sei"
      },
      "source": [
        "---\n",
        "## Drzewa decyzyjne"
      ]
    },
    {
      "cell_type": "markdown",
      "metadata": {
        "id": "hSF1ykDh1Sei"
      },
      "source": [
        "Jednym z najprostszych modeli, ale jednocześnie bardzo mocnym, są drzewa decyzyjne. Idea jest prosta, dzielimy w jakiś sposób nasze dane na mniejsze zbiory, dopóki nie będziemy z nich zadowoleni.\n",
        "\n",
        "<img src=\"https://github.com/aghbit/BIT-AI-Intro/blob/main/lab_01/assets/Dane_01.svg?raw=1\" width=\"800\"/>\n",
        "\n",
        "Jeżeli chcielibyśmy rozbudować nasze drzewo decyzyjne, najprostszym sposobem jest dodanie nowego podziału w następujący sposób:\n",
        "\n",
        "```\n",
        "1. Wybierz losową cechę ze zbioru danych\n",
        "2. Wybierz losowy liść\n",
        "3. Znajdź podział, który da najlepszy wynik\n",
        "```\n",
        "\n",
        "<img src=\"https://github.com/aghbit/BIT-AI-Intro/blob/main/lab_01/assets/Dane.svg?raw=1\" width=\"800\"/>\n"
      ]
    },
    {
      "cell_type": "code",
      "execution_count": null,
      "metadata": {
        "id": "ROsl3VGH1Sej"
      },
      "outputs": [],
      "source": [
        "from sklearn.tree import DecisionTreeClassifier\n",
        "from sklearn.tree import DecisionTreeRegressor"
      ]
    },
    {
      "cell_type": "markdown",
      "metadata": {
        "id": "SMrBCGu31Sej"
      },
      "source": [
        "---\n",
        "# Materiały"
      ]
    },
    {
      "cell_type": "markdown",
      "metadata": {
        "id": "r9DukbNn1Sej"
      },
      "source": [
        "- Prawdopodobnie za łatwe, ale może coś się przyda:\n",
        "  - [Kaggle - Mini Laby - Python](https://www.kaggle.com/learn/python)\n",
        "  - [Kaggle - Mini Laby - Intro to Programming](https://www.kaggle.com/learn/intro-to-programming)\n",
        "\n",
        "- Takie w sam raz:\n",
        "  - [Kaggle - Mini Laby - Pandas](https://www.kaggle.com/learn/pandas)\n",
        "  - [Kaggle - Mini Laby - Intro to Machine Learning](https://www.kaggle.com/learn/intro-to-machine-learning)\n",
        "  - [Kaggle - Mini Laby - Data Visualization](https://www.kaggle.com/learn/data-visualization)\n",
        "\n",
        "- Trochę więcej o niektórych zagadnieniach:\n",
        "  - [Kaggle - Notebook - Data Normalization](https://www.kaggle.com/code/rtatman/data-cleaning-challenge-scale-and-normalize-data)\n",
        "  - [Kaggle - Notebook - One Hot Encoding](https://www.kaggle.com/code/marcinrutecki/one-hot-encoding-everything-you-need-to-know)\n",
        "  - [Kaggle - Notebook - Imbalanced Data](https://www.kaggle.com/code/shahules/tackling-class-imbalance)\n",
        "\n",
        "- Lista innych modeli, których nie poruszyliśmy w tym labie:\n",
        "  - [Scikit-learn API](https://scikit-learn.org/stable/api/index.html)\n",
        "  - [Scikit-learn Examples](https://scikit-learn.org/stable/auto_examples/index.html)\n",
        "\n",
        "- Proste papery:\n",
        "  - [KNN - A](https://onlinelibrary.wiley.com/doi/full/10.1155/2021/5520990)\n",
        "  - [KNN - B](https://citeseerx.ist.psu.edu/document?repid=rep1&type=pdf&doi=9c11e93705e2dea51e7936f846ed2303b46a7a1d)"
      ]
    },
    {
      "cell_type": "markdown",
      "metadata": {
        "id": "6wC_zkWS1Sek"
      },
      "source": [
        "---\n",
        "## Zadanie Domowe"
      ]
    },
    {
      "cell_type": "markdown",
      "metadata": {
        "id": "89RoI8VZ1Sek"
      },
      "source": [
        "W ramach przetestowania waszej wiedzy, zrobimy sobie małe zawody. Znaleźć je możecie na [Kaggle](https://www.kaggle.com/competitions/bit-ai-2025-intro-1). Celem jest stworzenie modelu, który będzie przewidywać to ile zbiorów będzie z jakichś roślin. Dane zostały wygenerowane syntetycznie, więc wartości mogą być trochę dziwne. Raczej nie ma szukać sensownych zależności w literaturze :)\n",
        "\n",
        "### Wymagania\n",
        "- Model nie może być siecią neuronową\n",
        "- Odpowiedź musi być udzielona dla każdego wiersza z pliku **test.csv**, gdzie kolumny to odpowiednio\n",
        "  - **id** - id rośliny\n",
        "  - **yield** - ilość zbiorów\n",
        "\n",
        "### Zasady\n",
        "- Można łączyć się w zespoły (max 5 osób)\n",
        "- Każdy zespół może wysyłać maksymalnie 5 zgłoszeń dziennie\n",
        "- Zgłoszenia będą oceniane na podstawie metryki **MSE**\n",
        "- Deadline zgłoszeń to **17.04.2025; 23:55**\n",
        "- Wyniki będą odsłonięte **18.04.2025; 18:00**\n",
        "\n",
        "### Nagrody\n",
        "- Idk czy coś będzie, jak ktoś ładnie zaprezentuje rozwiązanie przy wszystkich to możemy o tym pomyśleć :)"
      ]
    }
  ],
  "metadata": {
    "kernelspec": {
      "display_name": "lab_1",
      "language": "python",
      "name": "python3"
    },
    "language_info": {
      "codemirror_mode": {
        "name": "ipython",
        "version": 3
      },
      "file_extension": ".py",
      "mimetype": "text/x-python",
      "name": "python",
      "nbconvert_exporter": "python",
      "pygments_lexer": "ipython3",
      "version": "3.9.21"
    },
    "colab": {
      "provenance": []
    }
  },
  "nbformat": 4,
  "nbformat_minor": 0
}